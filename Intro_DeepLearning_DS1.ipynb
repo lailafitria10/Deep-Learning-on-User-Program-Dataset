{
 "cells": [
  {
   "cell_type": "code",
   "execution_count": 9,
   "metadata": {
    "colab": {
     "base_uri": "https://localhost:8080/"
    },
    "id": "qi726trOEwju",
    "outputId": "74196bf5-6e71-4fa4-fb35-dc383919e49c"
   },
   "outputs": [
    {
     "name": "stdout",
     "output_type": "stream",
     "text": [
      "Drive already mounted at /content/drive; to attempt to forcibly remount, call drive.mount(\"/content/drive\", force_remount=True).\n"
     ]
    }
   ],
   "source": [
    "#df_ori.iloc[6943:].reset_index(drop=True).to_csv('/content/drive/MyDrive/Colab Notebooks/test_ori_dl.csv')\n",
    "#df_ori = pd.read_csv('/content/drive/MyDrive/Colab Notebooks/WA_Fn-UseC_-Telco-Customer-Churn.csv')\n",
    "from google.colab import drive\n",
    "drive.mount('/content/drive')"
   ]
  },
  {
   "cell_type": "code",
   "execution_count": 69,
   "metadata": {
    "id": "TSNJUXR-EaOH"
   },
   "outputs": [],
   "source": [
    "import pandas as pd\n",
    "import matplotlib.pyplot as plt"
   ]
  },
  {
   "cell_type": "markdown",
   "metadata": {
    "id": "aJkr_5QBz9DI"
   },
   "source": [
    "Load data train"
   ]
  },
  {
   "cell_type": "code",
   "execution_count": 11,
   "metadata": {
    "colab": {
     "base_uri": "https://localhost:8080/",
     "height": 305
    },
    "id": "j5rBlulYEvPg",
    "outputId": "978ce28e-1e98-42ea-d7aa-f7a799929d7f"
   },
   "outputs": [
    {
     "data": {
      "text/html": [
       "<div>\n",
       "<style scoped>\n",
       "    .dataframe tbody tr th:only-of-type {\n",
       "        vertical-align: middle;\n",
       "    }\n",
       "\n",
       "    .dataframe tbody tr th {\n",
       "        vertical-align: top;\n",
       "    }\n",
       "\n",
       "    .dataframe thead th {\n",
       "        text-align: right;\n",
       "    }\n",
       "</style>\n",
       "<table border=\"1\" class=\"dataframe\">\n",
       "  <thead>\n",
       "    <tr style=\"text-align: right;\">\n",
       "      <th></th>\n",
       "      <th>customerID</th>\n",
       "      <th>gender</th>\n",
       "      <th>SeniorCitizen</th>\n",
       "      <th>Partner</th>\n",
       "      <th>Dependents</th>\n",
       "      <th>tenure</th>\n",
       "      <th>PhoneService</th>\n",
       "      <th>MultipleLines</th>\n",
       "      <th>InternetService</th>\n",
       "      <th>OnlineSecurity</th>\n",
       "      <th>OnlineBackup</th>\n",
       "      <th>DeviceProtection</th>\n",
       "      <th>TechSupport</th>\n",
       "      <th>StreamingTV</th>\n",
       "      <th>StreamingMovies</th>\n",
       "      <th>Contract</th>\n",
       "      <th>PaperlessBilling</th>\n",
       "      <th>PaymentMethod</th>\n",
       "      <th>MonthlyCharges</th>\n",
       "      <th>TotalCharges</th>\n",
       "      <th>Churn</th>\n",
       "    </tr>\n",
       "  </thead>\n",
       "  <tbody>\n",
       "    <tr>\n",
       "      <th>0</th>\n",
       "      <td>7590-VHVEG</td>\n",
       "      <td>Female</td>\n",
       "      <td>0</td>\n",
       "      <td>Yes</td>\n",
       "      <td>No</td>\n",
       "      <td>1</td>\n",
       "      <td>No</td>\n",
       "      <td>No phone service</td>\n",
       "      <td>DSL</td>\n",
       "      <td>No</td>\n",
       "      <td>Yes</td>\n",
       "      <td>No</td>\n",
       "      <td>No</td>\n",
       "      <td>No</td>\n",
       "      <td>No</td>\n",
       "      <td>Month-to-month</td>\n",
       "      <td>Yes</td>\n",
       "      <td>Electronic check</td>\n",
       "      <td>29.85</td>\n",
       "      <td>29.85</td>\n",
       "      <td>No</td>\n",
       "    </tr>\n",
       "    <tr>\n",
       "      <th>1</th>\n",
       "      <td>5575-GNVDE</td>\n",
       "      <td>Male</td>\n",
       "      <td>0</td>\n",
       "      <td>No</td>\n",
       "      <td>No</td>\n",
       "      <td>34</td>\n",
       "      <td>Yes</td>\n",
       "      <td>No</td>\n",
       "      <td>DSL</td>\n",
       "      <td>Yes</td>\n",
       "      <td>No</td>\n",
       "      <td>Yes</td>\n",
       "      <td>No</td>\n",
       "      <td>No</td>\n",
       "      <td>No</td>\n",
       "      <td>One year</td>\n",
       "      <td>No</td>\n",
       "      <td>Mailed check</td>\n",
       "      <td>56.95</td>\n",
       "      <td>1889.5</td>\n",
       "      <td>No</td>\n",
       "    </tr>\n",
       "    <tr>\n",
       "      <th>2</th>\n",
       "      <td>3668-QPYBK</td>\n",
       "      <td>Male</td>\n",
       "      <td>0</td>\n",
       "      <td>No</td>\n",
       "      <td>No</td>\n",
       "      <td>2</td>\n",
       "      <td>Yes</td>\n",
       "      <td>No</td>\n",
       "      <td>DSL</td>\n",
       "      <td>Yes</td>\n",
       "      <td>Yes</td>\n",
       "      <td>No</td>\n",
       "      <td>No</td>\n",
       "      <td>No</td>\n",
       "      <td>No</td>\n",
       "      <td>Month-to-month</td>\n",
       "      <td>Yes</td>\n",
       "      <td>Mailed check</td>\n",
       "      <td>53.85</td>\n",
       "      <td>108.15</td>\n",
       "      <td>Yes</td>\n",
       "    </tr>\n",
       "    <tr>\n",
       "      <th>3</th>\n",
       "      <td>7795-CFOCW</td>\n",
       "      <td>Male</td>\n",
       "      <td>0</td>\n",
       "      <td>No</td>\n",
       "      <td>No</td>\n",
       "      <td>45</td>\n",
       "      <td>No</td>\n",
       "      <td>No phone service</td>\n",
       "      <td>DSL</td>\n",
       "      <td>Yes</td>\n",
       "      <td>No</td>\n",
       "      <td>Yes</td>\n",
       "      <td>Yes</td>\n",
       "      <td>No</td>\n",
       "      <td>No</td>\n",
       "      <td>One year</td>\n",
       "      <td>No</td>\n",
       "      <td>Bank transfer (automatic)</td>\n",
       "      <td>42.30</td>\n",
       "      <td>1840.75</td>\n",
       "      <td>No</td>\n",
       "    </tr>\n",
       "    <tr>\n",
       "      <th>4</th>\n",
       "      <td>9237-HQITU</td>\n",
       "      <td>Female</td>\n",
       "      <td>0</td>\n",
       "      <td>No</td>\n",
       "      <td>No</td>\n",
       "      <td>2</td>\n",
       "      <td>Yes</td>\n",
       "      <td>No</td>\n",
       "      <td>Fiber optic</td>\n",
       "      <td>No</td>\n",
       "      <td>No</td>\n",
       "      <td>No</td>\n",
       "      <td>No</td>\n",
       "      <td>No</td>\n",
       "      <td>No</td>\n",
       "      <td>Month-to-month</td>\n",
       "      <td>Yes</td>\n",
       "      <td>Electronic check</td>\n",
       "      <td>70.70</td>\n",
       "      <td>151.65</td>\n",
       "      <td>Yes</td>\n",
       "    </tr>\n",
       "  </tbody>\n",
       "</table>\n",
       "</div>"
      ],
      "text/plain": [
       "   customerID  gender  SeniorCitizen  ... MonthlyCharges TotalCharges  Churn\n",
       "0  7590-VHVEG  Female              0  ...          29.85        29.85     No\n",
       "1  5575-GNVDE    Male              0  ...          56.95       1889.5     No\n",
       "2  3668-QPYBK    Male              0  ...          53.85       108.15    Yes\n",
       "3  7795-CFOCW    Male              0  ...          42.30      1840.75     No\n",
       "4  9237-HQITU  Female              0  ...          70.70       151.65    Yes\n",
       "\n",
       "[5 rows x 21 columns]"
      ]
     },
     "execution_count": 11,
     "metadata": {
      "tags": []
     },
     "output_type": "execute_result"
    }
   ],
   "source": [
    "df = pd.read_csv('/content/drive/MyDrive/Colab Notebooks/train_df6.csv')\n",
    "df.head()"
   ]
  },
  {
   "cell_type": "markdown",
   "metadata": {
    "id": "jZ8eZKHc0Df2"
   },
   "source": [
    "Cek tipe data"
   ]
  },
  {
   "cell_type": "code",
   "execution_count": 8,
   "metadata": {
    "colab": {
     "base_uri": "https://localhost:8080/"
    },
    "id": "IFSqUZGTFN3Y",
    "outputId": "346e7a5c-fee4-4ed7-9742-5ee809f38a86"
   },
   "outputs": [
    {
     "name": "stdout",
     "output_type": "stream",
     "text": [
      "<class 'pandas.core.frame.DataFrame'>\n",
      "RangeIndex: 6942 entries, 0 to 6941\n",
      "Data columns (total 21 columns):\n",
      " #   Column            Non-Null Count  Dtype  \n",
      "---  ------            --------------  -----  \n",
      " 0   customerID        6942 non-null   object \n",
      " 1   gender            6942 non-null   object \n",
      " 2   SeniorCitizen     6942 non-null   int64  \n",
      " 3   Partner           6942 non-null   object \n",
      " 4   Dependents        6942 non-null   object \n",
      " 5   tenure            6942 non-null   int64  \n",
      " 6   PhoneService      6942 non-null   object \n",
      " 7   MultipleLines     6942 non-null   object \n",
      " 8   InternetService   6942 non-null   object \n",
      " 9   OnlineSecurity    6942 non-null   object \n",
      " 10  OnlineBackup      6942 non-null   object \n",
      " 11  DeviceProtection  6942 non-null   object \n",
      " 12  TechSupport       6942 non-null   object \n",
      " 13  StreamingTV       6942 non-null   object \n",
      " 14  StreamingMovies   6942 non-null   object \n",
      " 15  Contract          6942 non-null   object \n",
      " 16  PaperlessBilling  6942 non-null   object \n",
      " 17  PaymentMethod     6942 non-null   object \n",
      " 18  MonthlyCharges    6942 non-null   float64\n",
      " 19  TotalCharges      6942 non-null   object \n",
      " 20  Churn             6942 non-null   object \n",
      "dtypes: float64(1), int64(2), object(18)\n",
      "memory usage: 1.1+ MB\n"
     ]
    }
   ],
   "source": [
    "df.info()"
   ]
  },
  {
   "cell_type": "code",
   "execution_count": 80,
   "metadata": {
    "id": "Sd16OtKliw5I"
   },
   "outputs": [],
   "source": [
    "df['TotalCharges'] = pd.to_numeric(df['TotalCharges'],errors='coerce') #perbaiki TotalChares"
   ]
  },
  {
   "cell_type": "code",
   "execution_count": 81,
   "metadata": {
    "colab": {
     "base_uri": "https://localhost:8080/"
    },
    "id": "juKzmxQTkT_M",
    "outputId": "a825daf3-fdd3-4ae6-f6cc-ddb3635b3556"
   },
   "outputs": [
    {
     "name": "stdout",
     "output_type": "stream",
     "text": [
      "<class 'pandas.core.frame.DataFrame'>\n",
      "RangeIndex: 6942 entries, 0 to 6941\n",
      "Data columns (total 21 columns):\n",
      " #   Column            Non-Null Count  Dtype  \n",
      "---  ------            --------------  -----  \n",
      " 0   customerID        6942 non-null   object \n",
      " 1   gender            6942 non-null   object \n",
      " 2   SeniorCitizen     6942 non-null   int64  \n",
      " 3   Partner           6942 non-null   object \n",
      " 4   Dependents        6942 non-null   object \n",
      " 5   tenure            6942 non-null   int64  \n",
      " 6   PhoneService      6942 non-null   object \n",
      " 7   MultipleLines     6942 non-null   object \n",
      " 8   InternetService   6942 non-null   object \n",
      " 9   OnlineSecurity    6942 non-null   object \n",
      " 10  OnlineBackup      6942 non-null   object \n",
      " 11  DeviceProtection  6942 non-null   object \n",
      " 12  TechSupport       6942 non-null   object \n",
      " 13  StreamingTV       6942 non-null   object \n",
      " 14  StreamingMovies   6942 non-null   object \n",
      " 15  Contract          6942 non-null   object \n",
      " 16  PaperlessBilling  6942 non-null   object \n",
      " 17  PaymentMethod     6942 non-null   object \n",
      " 18  MonthlyCharges    6942 non-null   float64\n",
      " 19  TotalCharges      6931 non-null   float64\n",
      " 20  Churn             6942 non-null   object \n",
      "dtypes: float64(2), int64(2), object(17)\n",
      "memory usage: 1.1+ MB\n"
     ]
    }
   ],
   "source": [
    "df.info()"
   ]
  },
  {
   "cell_type": "markdown",
   "metadata": {
    "id": "C-SnkIKT0JPg"
   },
   "source": [
    "Cek Missing Value"
   ]
  },
  {
   "cell_type": "code",
   "execution_count": 82,
   "metadata": {
    "colab": {
     "base_uri": "https://localhost:8080/"
    },
    "id": "dwB-0fjSTV1o",
    "outputId": "72e0ae11-b911-40d8-b676-5cb291202b03"
   },
   "outputs": [
    {
     "data": {
      "text/plain": [
       "customerID           0\n",
       "gender               0\n",
       "SeniorCitizen        0\n",
       "Partner              0\n",
       "Dependents           0\n",
       "tenure               0\n",
       "PhoneService         0\n",
       "MultipleLines        0\n",
       "InternetService      0\n",
       "OnlineSecurity       0\n",
       "OnlineBackup         0\n",
       "DeviceProtection     0\n",
       "TechSupport          0\n",
       "StreamingTV          0\n",
       "StreamingMovies      0\n",
       "Contract             0\n",
       "PaperlessBilling     0\n",
       "PaymentMethod        0\n",
       "MonthlyCharges       0\n",
       "TotalCharges        11\n",
       "Churn                0\n",
       "dtype: int64"
      ]
     },
     "execution_count": 82,
     "metadata": {
      "tags": []
     },
     "output_type": "execute_result"
    }
   ],
   "source": [
    "df.isnull().sum()"
   ]
  },
  {
   "cell_type": "code",
   "execution_count": 85,
   "metadata": {
    "id": "rCXIaWBmknGO"
   },
   "outputs": [],
   "source": [
    "df.dropna(subset=['TotalCharges'],inplace=True) #buang missing value"
   ]
  },
  {
   "cell_type": "code",
   "execution_count": 86,
   "metadata": {
    "colab": {
     "base_uri": "https://localhost:8080/"
    },
    "id": "zq27WqZ8lN30",
    "outputId": "2e04a781-9c4d-4ec1-f6c9-abaf539fd4cd"
   },
   "outputs": [
    {
     "data": {
      "text/plain": [
       "customerID          0\n",
       "gender              0\n",
       "SeniorCitizen       0\n",
       "Partner             0\n",
       "Dependents          0\n",
       "tenure              0\n",
       "PhoneService        0\n",
       "MultipleLines       0\n",
       "InternetService     0\n",
       "OnlineSecurity      0\n",
       "OnlineBackup        0\n",
       "DeviceProtection    0\n",
       "TechSupport         0\n",
       "StreamingTV         0\n",
       "StreamingMovies     0\n",
       "Contract            0\n",
       "PaperlessBilling    0\n",
       "PaymentMethod       0\n",
       "MonthlyCharges      0\n",
       "TotalCharges        0\n",
       "Churn               0\n",
       "dtype: int64"
      ]
     },
     "execution_count": 86,
     "metadata": {
      "tags": []
     },
     "output_type": "execute_result"
    }
   ],
   "source": [
    "df.isnull().sum()"
   ]
  },
  {
   "cell_type": "markdown",
   "metadata": {
    "id": "H95uHxHm0PRt"
   },
   "source": [
    "Cek duplikasi data"
   ]
  },
  {
   "cell_type": "code",
   "execution_count": 87,
   "metadata": {
    "colab": {
     "base_uri": "https://localhost:8080/"
    },
    "id": "jF3zUiD3TiJ0",
    "outputId": "1776cbeb-8caa-439c-8ab8-07f9c57bf442"
   },
   "outputs": [
    {
     "data": {
      "text/plain": [
       "0"
      ]
     },
     "execution_count": 87,
     "metadata": {
      "tags": []
     },
     "output_type": "execute_result"
    }
   ],
   "source": [
    "df['customerID'].duplicated().sum()"
   ]
  },
  {
   "cell_type": "code",
   "execution_count": 90,
   "metadata": {
    "id": "IiylS9E8UB6n"
   },
   "outputs": [],
   "source": [
    "# categorical_ohe = ['gender', 'Partner', 'Dependents', 'PhoneService',\n",
    "#                    'PaperlessBilling','Churn']\n",
    "# categorical_ohe = ['MultipleLines','InternetService', 'OnlineSecurity', \n",
    "#                    'OnlineBackup', 'DeviceProtection', 'TechSupport', \n",
    "#                    'StreamingTV', 'StreamingMovies', 'Contract','PaymentMethod']\n",
    "# numerical_features = ['tenure','MonthlyCharges', 'TotalCharges']"
   ]
  },
  {
   "cell_type": "code",
   "execution_count": null,
   "metadata": {
    "id": "0HkgZ01ooA8I"
   },
   "outputs": [],
   "source": [
    "#binary_columns = ['Partner','Dependents','PhoneService','MultipleLines','OnlineSecurity','OnlineBackup',\n",
    "#                  'DeviceProtection','TechSupport','StreamingTV','StreamingMovies','PaperlessBilling','Churn']\n",
    "#for col in binary_columns:\n",
    "#    df_1[col].replace({'Yes': 1,'No': 0},inplace=True)"
   ]
  },
  {
   "cell_type": "markdown",
   "metadata": {
    "id": "j7plNYBF0R_0"
   },
   "source": [
    "## Percobaan 1"
   ]
  },
  {
   "cell_type": "code",
   "execution_count": 148,
   "metadata": {
    "colab": {
     "base_uri": "https://localhost:8080/",
     "height": 288
    },
    "id": "w47fQ0Zka4A9",
    "outputId": "9b90ad43-f7d8-44ca-d228-44c04de149ff"
   },
   "outputs": [
    {
     "data": {
      "text/html": [
       "<div>\n",
       "<style scoped>\n",
       "    .dataframe tbody tr th:only-of-type {\n",
       "        vertical-align: middle;\n",
       "    }\n",
       "\n",
       "    .dataframe tbody tr th {\n",
       "        vertical-align: top;\n",
       "    }\n",
       "\n",
       "    .dataframe thead th {\n",
       "        text-align: right;\n",
       "    }\n",
       "</style>\n",
       "<table border=\"1\" class=\"dataframe\">\n",
       "  <thead>\n",
       "    <tr style=\"text-align: right;\">\n",
       "      <th></th>\n",
       "      <th>gender</th>\n",
       "      <th>SeniorCitizen</th>\n",
       "      <th>Partner</th>\n",
       "      <th>Dependents</th>\n",
       "      <th>tenure</th>\n",
       "      <th>PhoneService</th>\n",
       "      <th>MultipleLines</th>\n",
       "      <th>InternetService</th>\n",
       "      <th>OnlineSecurity</th>\n",
       "      <th>OnlineBackup</th>\n",
       "      <th>DeviceProtection</th>\n",
       "      <th>TechSupport</th>\n",
       "      <th>StreamingTV</th>\n",
       "      <th>StreamingMovies</th>\n",
       "      <th>Contract</th>\n",
       "      <th>PaperlessBilling</th>\n",
       "      <th>PaymentMethod</th>\n",
       "      <th>MonthlyCharges</th>\n",
       "      <th>TotalCharges</th>\n",
       "      <th>Churn</th>\n",
       "    </tr>\n",
       "  </thead>\n",
       "  <tbody>\n",
       "    <tr>\n",
       "      <th>0</th>\n",
       "      <td>Female</td>\n",
       "      <td>0</td>\n",
       "      <td>Yes</td>\n",
       "      <td>No</td>\n",
       "      <td>1</td>\n",
       "      <td>No</td>\n",
       "      <td>No phone service</td>\n",
       "      <td>DSL</td>\n",
       "      <td>No</td>\n",
       "      <td>Yes</td>\n",
       "      <td>No</td>\n",
       "      <td>No</td>\n",
       "      <td>No</td>\n",
       "      <td>No</td>\n",
       "      <td>Month-to-month</td>\n",
       "      <td>Yes</td>\n",
       "      <td>Electronic check</td>\n",
       "      <td>29.85</td>\n",
       "      <td>29.85</td>\n",
       "      <td>No</td>\n",
       "    </tr>\n",
       "    <tr>\n",
       "      <th>1</th>\n",
       "      <td>Male</td>\n",
       "      <td>0</td>\n",
       "      <td>No</td>\n",
       "      <td>No</td>\n",
       "      <td>34</td>\n",
       "      <td>Yes</td>\n",
       "      <td>No</td>\n",
       "      <td>DSL</td>\n",
       "      <td>Yes</td>\n",
       "      <td>No</td>\n",
       "      <td>Yes</td>\n",
       "      <td>No</td>\n",
       "      <td>No</td>\n",
       "      <td>No</td>\n",
       "      <td>One year</td>\n",
       "      <td>No</td>\n",
       "      <td>Mailed check</td>\n",
       "      <td>56.95</td>\n",
       "      <td>1889.50</td>\n",
       "      <td>No</td>\n",
       "    </tr>\n",
       "    <tr>\n",
       "      <th>2</th>\n",
       "      <td>Male</td>\n",
       "      <td>0</td>\n",
       "      <td>No</td>\n",
       "      <td>No</td>\n",
       "      <td>2</td>\n",
       "      <td>Yes</td>\n",
       "      <td>No</td>\n",
       "      <td>DSL</td>\n",
       "      <td>Yes</td>\n",
       "      <td>Yes</td>\n",
       "      <td>No</td>\n",
       "      <td>No</td>\n",
       "      <td>No</td>\n",
       "      <td>No</td>\n",
       "      <td>Month-to-month</td>\n",
       "      <td>Yes</td>\n",
       "      <td>Mailed check</td>\n",
       "      <td>53.85</td>\n",
       "      <td>108.15</td>\n",
       "      <td>Yes</td>\n",
       "    </tr>\n",
       "    <tr>\n",
       "      <th>3</th>\n",
       "      <td>Male</td>\n",
       "      <td>0</td>\n",
       "      <td>No</td>\n",
       "      <td>No</td>\n",
       "      <td>45</td>\n",
       "      <td>No</td>\n",
       "      <td>No phone service</td>\n",
       "      <td>DSL</td>\n",
       "      <td>Yes</td>\n",
       "      <td>No</td>\n",
       "      <td>Yes</td>\n",
       "      <td>Yes</td>\n",
       "      <td>No</td>\n",
       "      <td>No</td>\n",
       "      <td>One year</td>\n",
       "      <td>No</td>\n",
       "      <td>Bank transfer (automatic)</td>\n",
       "      <td>42.30</td>\n",
       "      <td>1840.75</td>\n",
       "      <td>No</td>\n",
       "    </tr>\n",
       "    <tr>\n",
       "      <th>4</th>\n",
       "      <td>Female</td>\n",
       "      <td>0</td>\n",
       "      <td>No</td>\n",
       "      <td>No</td>\n",
       "      <td>2</td>\n",
       "      <td>Yes</td>\n",
       "      <td>No</td>\n",
       "      <td>Fiber optic</td>\n",
       "      <td>No</td>\n",
       "      <td>No</td>\n",
       "      <td>No</td>\n",
       "      <td>No</td>\n",
       "      <td>No</td>\n",
       "      <td>No</td>\n",
       "      <td>Month-to-month</td>\n",
       "      <td>Yes</td>\n",
       "      <td>Electronic check</td>\n",
       "      <td>70.70</td>\n",
       "      <td>151.65</td>\n",
       "      <td>Yes</td>\n",
       "    </tr>\n",
       "  </tbody>\n",
       "</table>\n",
       "</div>"
      ],
      "text/plain": [
       "   gender  SeniorCitizen Partner  ... MonthlyCharges  TotalCharges Churn\n",
       "0  Female              0     Yes  ...          29.85         29.85    No\n",
       "1    Male              0      No  ...          56.95       1889.50    No\n",
       "2    Male              0      No  ...          53.85        108.15   Yes\n",
       "3    Male              0      No  ...          42.30       1840.75    No\n",
       "4  Female              0      No  ...          70.70        151.65   Yes\n",
       "\n",
       "[5 rows x 20 columns]"
      ]
     },
     "execution_count": 148,
     "metadata": {
      "tags": []
     },
     "output_type": "execute_result"
    }
   ],
   "source": [
    "df_churn1 = df.copy()\n",
    "df_churn1.drop('customerID',axis=1,inplace=True)\n",
    "df_churn1.head()"
   ]
  },
  {
   "cell_type": "code",
   "execution_count": 149,
   "metadata": {
    "colab": {
     "base_uri": "https://localhost:8080/"
    },
    "id": "9ln2bOf3gb3Y",
    "outputId": "99356580-9a10-4f2a-ef95-7096b7b9e53f"
   },
   "outputs": [
    {
     "data": {
      "text/plain": [
       "Index(['gender', 'SeniorCitizen', 'Partner', 'Dependents', 'tenure',\n",
       "       'PhoneService', 'MultipleLines', 'InternetService', 'OnlineSecurity',\n",
       "       'OnlineBackup', 'DeviceProtection', 'TechSupport', 'StreamingTV',\n",
       "       'StreamingMovies', 'Contract', 'PaperlessBilling', 'PaymentMethod',\n",
       "       'MonthlyCharges', 'TotalCharges', 'Churn'],\n",
       "      dtype='object')"
      ]
     },
     "execution_count": 149,
     "metadata": {
      "tags": []
     },
     "output_type": "execute_result"
    }
   ],
   "source": [
    "df_churn1.columns"
   ]
  },
  {
   "cell_type": "code",
   "execution_count": 150,
   "metadata": {
    "colab": {
     "base_uri": "https://localhost:8080/"
    },
    "id": "pcuHZMJBVWIv",
    "outputId": "55abefd9-b98a-4a84-97c0-2a85472a52f7"
   },
   "outputs": [
    {
     "name": "stdout",
     "output_type": "stream",
     "text": [
      "gender: ['Female' 'Male']\n",
      "Partner: ['Yes' 'No']\n",
      "Dependents: ['No' 'Yes']\n",
      "PhoneService: ['No' 'Yes']\n",
      "MultipleLines: ['No phone service' 'No' 'Yes']\n",
      "InternetService: ['DSL' 'Fiber optic' 'No']\n",
      "OnlineSecurity: ['No' 'Yes' 'No internet service']\n",
      "OnlineBackup: ['Yes' 'No' 'No internet service']\n",
      "DeviceProtection: ['No' 'Yes' 'No internet service']\n",
      "TechSupport: ['No' 'Yes' 'No internet service']\n",
      "StreamingTV: ['No' 'Yes' 'No internet service']\n",
      "StreamingMovies: ['No' 'Yes' 'No internet service']\n",
      "Contract: ['Month-to-month' 'One year' 'Two year']\n",
      "PaperlessBilling: ['Yes' 'No']\n",
      "PaymentMethod: ['Electronic check' 'Mailed check' 'Bank transfer (automatic)'\n",
      " 'Credit card (automatic)']\n",
      "Churn: ['No' 'Yes']\n"
     ]
    }
   ],
   "source": [
    "for i in df_churn1.select_dtypes('object').columns:\n",
    "  print(f'{i}: {df_churn1[i].unique()}')"
   ]
  },
  {
   "cell_type": "code",
   "execution_count": 151,
   "metadata": {
    "id": "mCvl1qtnhzYU"
   },
   "outputs": [],
   "source": [
    "# pie chart gender\n",
    "def label_function(val):\n",
    "    return f'{val / 100 * len(df):.0f}\\n{val:.0f}%'"
   ]
  },
  {
   "cell_type": "code",
   "execution_count": 152,
   "metadata": {
    "colab": {
     "base_uri": "https://localhost:8080/",
     "height": 265
    },
    "id": "way62cV1h1hS",
    "outputId": "a4f074a1-42d1-4ae7-ffe7-0755fce81614"
   },
   "outputs": [
    {
     "data": {
      "text/plain": [
       "<matplotlib.axes._subplots.AxesSubplot at 0x7fc21c1c36d0>"
      ]
     },
     "execution_count": 152,
     "metadata": {
      "tags": []
     },
     "output_type": "execute_result"
    },
    {
     "data": {
      "image/png": "[encoded data removed]",
      "text/plain": [
       "<Figure size 432x288 with 1 Axes>"
      ]
     },
     "metadata": {
      "tags": []
     },
     "output_type": "display_data"
    }
   ],
   "source": [
    "df_churn1.groupby('Churn').size().plot(kind='pie', autopct=label_function, textprops={'fontsize': 20})"
   ]
  },
  {
   "cell_type": "code",
   "execution_count": 201,
   "metadata": {
    "id": "Ws85UI4V1HwD"
   },
   "outputs": [],
   "source": [
    "categorical_le = ['gender', 'Partner', 'Dependents', 'PhoneService',\n",
    "                   'PaperlessBilling','Churn']\n",
    "categorical_ohe = ['MultipleLines','InternetService', 'OnlineSecurity', \n",
    "                   'OnlineBackup', 'DeviceProtection', 'TechSupport', \n",
    "                   'StreamingTV', 'StreamingMovies', 'Contract','PaymentMethod']\n",
    "numerical_features = ['tenure','MonthlyCharges', 'TotalCharges']"
   ]
  },
  {
   "cell_type": "code",
   "execution_count": 154,
   "metadata": {
    "id": "kVpvsjLrifI2"
   },
   "outputs": [],
   "source": [
    "from sklearn.preprocessing import LabelEncoder\n",
    "from sklearn.preprocessing import MinMaxScaler\n",
    "le = LabelEncoder()\n",
    "for col in categorical_le:\n",
    "  df_churn1[col] = le.fit_transform(df_churn1[col])\n",
    "\n",
    "scaler = MinMaxScaler()\n",
    "df_churn1[numerical_features] = scaler.fit_transform(df_churn1[numerical_features])"
   ]
  },
  {
   "cell_type": "code",
   "execution_count": 155,
   "metadata": {
    "id": "XTO32Vg8-Pl2"
   },
   "outputs": [],
   "source": [
    "df_churn11 = pd.get_dummies(data=df_churn1, columns=categorical_ohe)"
   ]
  },
  {
   "cell_type": "code",
   "execution_count": 156,
   "metadata": {
    "colab": {
     "base_uri": "https://localhost:8080/",
     "height": 255
    },
    "id": "WvFdNgGJ21Wg",
    "outputId": "78b6d8d9-844f-4f6c-9be6-4de51ae306e7"
   },
   "outputs": [
    {
     "data": {
      "text/html": [
       "<div>\n",
       "<style scoped>\n",
       "    .dataframe tbody tr th:only-of-type {\n",
       "        vertical-align: middle;\n",
       "    }\n",
       "\n",
       "    .dataframe tbody tr th {\n",
       "        vertical-align: top;\n",
       "    }\n",
       "\n",
       "    .dataframe thead th {\n",
       "        text-align: right;\n",
       "    }\n",
       "</style>\n",
       "<table border=\"1\" class=\"dataframe\">\n",
       "  <thead>\n",
       "    <tr style=\"text-align: right;\">\n",
       "      <th></th>\n",
       "      <th>gender</th>\n",
       "      <th>SeniorCitizen</th>\n",
       "      <th>Partner</th>\n",
       "      <th>Dependents</th>\n",
       "      <th>tenure</th>\n",
       "      <th>PhoneService</th>\n",
       "      <th>PaperlessBilling</th>\n",
       "      <th>MonthlyCharges</th>\n",
       "      <th>TotalCharges</th>\n",
       "      <th>Churn</th>\n",
       "      <th>MultipleLines_No</th>\n",
       "      <th>MultipleLines_No phone service</th>\n",
       "      <th>MultipleLines_Yes</th>\n",
       "      <th>InternetService_DSL</th>\n",
       "      <th>InternetService_Fiber optic</th>\n",
       "      <th>InternetService_No</th>\n",
       "      <th>OnlineSecurity_No</th>\n",
       "      <th>OnlineSecurity_No internet service</th>\n",
       "      <th>OnlineSecurity_Yes</th>\n",
       "      <th>OnlineBackup_No</th>\n",
       "      <th>OnlineBackup_No internet service</th>\n",
       "      <th>OnlineBackup_Yes</th>\n",
       "      <th>DeviceProtection_No</th>\n",
       "      <th>DeviceProtection_No internet service</th>\n",
       "      <th>DeviceProtection_Yes</th>\n",
       "      <th>TechSupport_No</th>\n",
       "      <th>TechSupport_No internet service</th>\n",
       "      <th>TechSupport_Yes</th>\n",
       "      <th>StreamingTV_No</th>\n",
       "      <th>StreamingTV_No internet service</th>\n",
       "      <th>StreamingTV_Yes</th>\n",
       "      <th>StreamingMovies_No</th>\n",
       "      <th>StreamingMovies_No internet service</th>\n",
       "      <th>StreamingMovies_Yes</th>\n",
       "      <th>Contract_Month-to-month</th>\n",
       "      <th>Contract_One year</th>\n",
       "      <th>Contract_Two year</th>\n",
       "      <th>PaymentMethod_Bank transfer (automatic)</th>\n",
       "      <th>PaymentMethod_Credit card (automatic)</th>\n",
       "      <th>PaymentMethod_Electronic check</th>\n",
       "      <th>PaymentMethod_Mailed check</th>\n",
       "    </tr>\n",
       "  </thead>\n",
       "  <tbody>\n",
       "    <tr>\n",
       "      <th>0</th>\n",
       "      <td>0</td>\n",
       "      <td>0</td>\n",
       "      <td>1</td>\n",
       "      <td>0</td>\n",
       "      <td>0.000000</td>\n",
       "      <td>0</td>\n",
       "      <td>1</td>\n",
       "      <td>0.115423</td>\n",
       "      <td>0.001275</td>\n",
       "      <td>0</td>\n",
       "      <td>0</td>\n",
       "      <td>1</td>\n",
       "      <td>0</td>\n",
       "      <td>1</td>\n",
       "      <td>0</td>\n",
       "      <td>0</td>\n",
       "      <td>1</td>\n",
       "      <td>0</td>\n",
       "      <td>0</td>\n",
       "      <td>0</td>\n",
       "      <td>0</td>\n",
       "      <td>1</td>\n",
       "      <td>1</td>\n",
       "      <td>0</td>\n",
       "      <td>0</td>\n",
       "      <td>1</td>\n",
       "      <td>0</td>\n",
       "      <td>0</td>\n",
       "      <td>1</td>\n",
       "      <td>0</td>\n",
       "      <td>0</td>\n",
       "      <td>1</td>\n",
       "      <td>0</td>\n",
       "      <td>0</td>\n",
       "      <td>1</td>\n",
       "      <td>0</td>\n",
       "      <td>0</td>\n",
       "      <td>0</td>\n",
       "      <td>0</td>\n",
       "      <td>1</td>\n",
       "      <td>0</td>\n",
       "    </tr>\n",
       "    <tr>\n",
       "      <th>1</th>\n",
       "      <td>1</td>\n",
       "      <td>0</td>\n",
       "      <td>0</td>\n",
       "      <td>0</td>\n",
       "      <td>0.464789</td>\n",
       "      <td>1</td>\n",
       "      <td>0</td>\n",
       "      <td>0.385075</td>\n",
       "      <td>0.215867</td>\n",
       "      <td>0</td>\n",
       "      <td>1</td>\n",
       "      <td>0</td>\n",
       "      <td>0</td>\n",
       "      <td>1</td>\n",
       "      <td>0</td>\n",
       "      <td>0</td>\n",
       "      <td>0</td>\n",
       "      <td>0</td>\n",
       "      <td>1</td>\n",
       "      <td>1</td>\n",
       "      <td>0</td>\n",
       "      <td>0</td>\n",
       "      <td>0</td>\n",
       "      <td>0</td>\n",
       "      <td>1</td>\n",
       "      <td>1</td>\n",
       "      <td>0</td>\n",
       "      <td>0</td>\n",
       "      <td>1</td>\n",
       "      <td>0</td>\n",
       "      <td>0</td>\n",
       "      <td>1</td>\n",
       "      <td>0</td>\n",
       "      <td>0</td>\n",
       "      <td>0</td>\n",
       "      <td>1</td>\n",
       "      <td>0</td>\n",
       "      <td>0</td>\n",
       "      <td>0</td>\n",
       "      <td>0</td>\n",
       "      <td>1</td>\n",
       "    </tr>\n",
       "    <tr>\n",
       "      <th>2</th>\n",
       "      <td>1</td>\n",
       "      <td>0</td>\n",
       "      <td>0</td>\n",
       "      <td>0</td>\n",
       "      <td>0.014085</td>\n",
       "      <td>1</td>\n",
       "      <td>1</td>\n",
       "      <td>0.354229</td>\n",
       "      <td>0.010310</td>\n",
       "      <td>1</td>\n",
       "      <td>1</td>\n",
       "      <td>0</td>\n",
       "      <td>0</td>\n",
       "      <td>1</td>\n",
       "      <td>0</td>\n",
       "      <td>0</td>\n",
       "      <td>0</td>\n",
       "      <td>0</td>\n",
       "      <td>1</td>\n",
       "      <td>0</td>\n",
       "      <td>0</td>\n",
       "      <td>1</td>\n",
       "      <td>1</td>\n",
       "      <td>0</td>\n",
       "      <td>0</td>\n",
       "      <td>1</td>\n",
       "      <td>0</td>\n",
       "      <td>0</td>\n",
       "      <td>1</td>\n",
       "      <td>0</td>\n",
       "      <td>0</td>\n",
       "      <td>1</td>\n",
       "      <td>0</td>\n",
       "      <td>0</td>\n",
       "      <td>1</td>\n",
       "      <td>0</td>\n",
       "      <td>0</td>\n",
       "      <td>0</td>\n",
       "      <td>0</td>\n",
       "      <td>0</td>\n",
       "      <td>1</td>\n",
       "    </tr>\n",
       "    <tr>\n",
       "      <th>3</th>\n",
       "      <td>1</td>\n",
       "      <td>0</td>\n",
       "      <td>0</td>\n",
       "      <td>0</td>\n",
       "      <td>0.619718</td>\n",
       "      <td>0</td>\n",
       "      <td>0</td>\n",
       "      <td>0.239303</td>\n",
       "      <td>0.210241</td>\n",
       "      <td>0</td>\n",
       "      <td>0</td>\n",
       "      <td>1</td>\n",
       "      <td>0</td>\n",
       "      <td>1</td>\n",
       "      <td>0</td>\n",
       "      <td>0</td>\n",
       "      <td>0</td>\n",
       "      <td>0</td>\n",
       "      <td>1</td>\n",
       "      <td>1</td>\n",
       "      <td>0</td>\n",
       "      <td>0</td>\n",
       "      <td>0</td>\n",
       "      <td>0</td>\n",
       "      <td>1</td>\n",
       "      <td>0</td>\n",
       "      <td>0</td>\n",
       "      <td>1</td>\n",
       "      <td>1</td>\n",
       "      <td>0</td>\n",
       "      <td>0</td>\n",
       "      <td>1</td>\n",
       "      <td>0</td>\n",
       "      <td>0</td>\n",
       "      <td>0</td>\n",
       "      <td>1</td>\n",
       "      <td>0</td>\n",
       "      <td>1</td>\n",
       "      <td>0</td>\n",
       "      <td>0</td>\n",
       "      <td>0</td>\n",
       "    </tr>\n",
       "    <tr>\n",
       "      <th>4</th>\n",
       "      <td>0</td>\n",
       "      <td>0</td>\n",
       "      <td>0</td>\n",
       "      <td>0</td>\n",
       "      <td>0.014085</td>\n",
       "      <td>1</td>\n",
       "      <td>1</td>\n",
       "      <td>0.521891</td>\n",
       "      <td>0.015330</td>\n",
       "      <td>1</td>\n",
       "      <td>1</td>\n",
       "      <td>0</td>\n",
       "      <td>0</td>\n",
       "      <td>0</td>\n",
       "      <td>1</td>\n",
       "      <td>0</td>\n",
       "      <td>1</td>\n",
       "      <td>0</td>\n",
       "      <td>0</td>\n",
       "      <td>1</td>\n",
       "      <td>0</td>\n",
       "      <td>0</td>\n",
       "      <td>1</td>\n",
       "      <td>0</td>\n",
       "      <td>0</td>\n",
       "      <td>1</td>\n",
       "      <td>0</td>\n",
       "      <td>0</td>\n",
       "      <td>1</td>\n",
       "      <td>0</td>\n",
       "      <td>0</td>\n",
       "      <td>1</td>\n",
       "      <td>0</td>\n",
       "      <td>0</td>\n",
       "      <td>1</td>\n",
       "      <td>0</td>\n",
       "      <td>0</td>\n",
       "      <td>0</td>\n",
       "      <td>0</td>\n",
       "      <td>1</td>\n",
       "      <td>0</td>\n",
       "    </tr>\n",
       "  </tbody>\n",
       "</table>\n",
       "</div>"
      ],
      "text/plain": [
       "   gender  ...  PaymentMethod_Mailed check\n",
       "0       0  ...                           0\n",
       "1       1  ...                           1\n",
       "2       1  ...                           1\n",
       "3       1  ...                           0\n",
       "4       0  ...                           0\n",
       "\n",
       "[5 rows x 41 columns]"
      ]
     },
     "execution_count": 156,
     "metadata": {
      "tags": []
     },
     "output_type": "execute_result"
    }
   ],
   "source": [
    "df_churn11.head()"
   ]
  },
  {
   "cell_type": "code",
   "execution_count": 157,
   "metadata": {
    "id": "b9uvYOM7-wRQ"
   },
   "outputs": [],
   "source": [
    "X = df_churn_smote.drop('Churn',axis=1)\n",
    "y = df_churn_smote['Churn']"
   ]
  },
  {
   "cell_type": "code",
   "execution_count": 158,
   "metadata": {
    "colab": {
     "base_uri": "https://localhost:8080/"
    },
    "id": "GsQaxW32_cgY",
    "outputId": "9ab52130-ecb3-462c-9842-b6e6767e053d"
   },
   "outputs": [
    {
     "data": {
      "text/plain": [
       "0       0\n",
       "1       0\n",
       "2       1\n",
       "3       0\n",
       "4       1\n",
       "       ..\n",
       "6937    0\n",
       "6938    0\n",
       "6939    0\n",
       "6940    0\n",
       "6941    0\n",
       "Name: Churn, Length: 6931, dtype: int64"
      ]
     },
     "execution_count": 158,
     "metadata": {
      "tags": []
     },
     "output_type": "execute_result"
    }
   ],
   "source": [
    "y"
   ]
  },
  {
   "cell_type": "code",
   "execution_count": 262,
   "metadata": {
    "colab": {
     "base_uri": "https://localhost:8080/"
    },
    "id": "ktgmNEC1TX7i",
    "outputId": "17057855-50f4-494a-d0aa-36aa771bf0ed"
   },
   "outputs": [
    {
     "name": "stderr",
     "output_type": "stream",
     "text": [
      "/usr/local/lib/python3.7/dist-packages/sklearn/utils/deprecation.py:87: FutureWarning: Function safe_indexing is deprecated; safe_indexing is deprecated in version 0.22 and will be removed in version 0.24.\n",
      "  warnings.warn(msg, category=FutureWarning)\n"
     ]
    }
   ],
   "source": [
    "from imblearn.over_sampling import SMOTE\n",
    "sm = SMOTE(random_state=42)\n",
    "X_smote, y_smote = sm.fit_resample(X, y)\n",
    "X_smote = pd.DataFrame(X_smote, columns = X.columns)"
   ]
  },
  {
   "cell_type": "code",
   "execution_count": 263,
   "metadata": {
    "id": "pvckN5WL_nO3"
   },
   "outputs": [],
   "source": [
    "from sklearn.model_selection import train_test_split\n",
    "X_train, X_test, y_train, y_test = train_test_split(X_smote, y_smote, test_size=0.2,random_state = 42)"
   ]
  },
  {
   "cell_type": "code",
   "execution_count": 264,
   "metadata": {
    "colab": {
     "base_uri": "https://localhost:8080/"
    },
    "id": "3_3xzEyu_tD5",
    "outputId": "4011db6f-af00-47c2-a4b8-62317d0c59e6"
   },
   "outputs": [
    {
     "data": {
      "text/plain": [
       "40"
      ]
     },
     "execution_count": 264,
     "metadata": {
      "tags": []
     },
     "output_type": "execute_result"
    }
   ],
   "source": [
    "input_shape = X_train.shape[1]\n",
    "input_shape"
   ]
  },
  {
   "cell_type": "code",
   "execution_count": 265,
   "metadata": {
    "id": "O1OlmdJwAF4Q"
   },
   "outputs": [],
   "source": [
    "#Importing necessary modules\n",
    "from tensorflow.keras.models import Sequential\n",
    "from tensorflow.keras import Input, Model\n",
    "from tensorflow.keras.layers import Dense, Dropout, Activation"
   ]
  },
  {
   "cell_type": "code",
   "execution_count": 266,
   "metadata": {
    "id": "_ZD35PQxAHq5"
   },
   "outputs": [],
   "source": [
    "model = Sequential()\n",
    "model.add(Dense(32, input_dim=input_shape, kernel_initializer='uniform', activation='relu'))\n",
    "model.add(Dropout(0.5))\n",
    "model.add(Dense(64, activation='relu'))\n",
    "model.add(Dropout(0.25))\n",
    "model.add(Dense(128, activation='relu'))\n",
    "model.add(Dropout(0.25))\n",
    "model.add(Dense(1, activation='sigmoid'))\n"
   ]
  },
  {
   "cell_type": "code",
   "execution_count": 267,
   "metadata": {
    "id": "ORQ5FUeeCfnV"
   },
   "outputs": [],
   "source": [
    "model.compile(loss='binary_crossentropy',\n",
    "              optimizer='adam',\n",
    "              metrics=['accuracy'])"
   ]
  },
  {
   "cell_type": "code",
   "execution_count": 268,
   "metadata": {
    "colab": {
     "base_uri": "https://localhost:8080/"
    },
    "id": "rDl44pMkCiTc",
    "outputId": "767a2c48-e48c-436d-a637-8ecd3cfc6b7d"
   },
   "outputs": [
    {
     "name": "stdout",
     "output_type": "stream",
     "text": [
      "Epoch 1/25\n",
      "340/340 [==============================] - 2s 3ms/step - loss: 0.5297 - accuracy: 0.7410 - val_loss: 0.4801 - val_accuracy: 0.7801\n",
      "Epoch 2/25\n",
      "340/340 [==============================] - 1s 3ms/step - loss: 0.4897 - accuracy: 0.7654 - val_loss: 0.4774 - val_accuracy: 0.7752\n",
      "Epoch 3/25\n",
      "340/340 [==============================] - 1s 3ms/step - loss: 0.4802 - accuracy: 0.7716 - val_loss: 0.4739 - val_accuracy: 0.7757\n",
      "Epoch 4/25\n",
      "340/340 [==============================] - 1s 2ms/step - loss: 0.4789 - accuracy: 0.7694 - val_loss: 0.4740 - val_accuracy: 0.7796\n",
      "Epoch 5/25\n",
      "340/340 [==============================] - 1s 2ms/step - loss: 0.4748 - accuracy: 0.7757 - val_loss: 0.4698 - val_accuracy: 0.7771\n",
      "Epoch 6/25\n",
      "340/340 [==============================] - 1s 3ms/step - loss: 0.4769 - accuracy: 0.7742 - val_loss: 0.4704 - val_accuracy: 0.7761\n",
      "Epoch 7/25\n",
      "340/340 [==============================] - 1s 3ms/step - loss: 0.4695 - accuracy: 0.7732 - val_loss: 0.4678 - val_accuracy: 0.7820\n",
      "Epoch 8/25\n",
      "340/340 [==============================] - 1s 3ms/step - loss: 0.4685 - accuracy: 0.7765 - val_loss: 0.4683 - val_accuracy: 0.7850\n",
      "Epoch 9/25\n",
      "340/340 [==============================] - 1s 3ms/step - loss: 0.4676 - accuracy: 0.7773 - val_loss: 0.4682 - val_accuracy: 0.7806\n",
      "Epoch 10/25\n",
      "340/340 [==============================] - 1s 2ms/step - loss: 0.4622 - accuracy: 0.7800 - val_loss: 0.4672 - val_accuracy: 0.7815\n",
      "Epoch 11/25\n",
      "340/340 [==============================] - 1s 3ms/step - loss: 0.4631 - accuracy: 0.7826 - val_loss: 0.4678 - val_accuracy: 0.7791\n",
      "Epoch 12/25\n",
      "340/340 [==============================] - 1s 3ms/step - loss: 0.4647 - accuracy: 0.7796 - val_loss: 0.4672 - val_accuracy: 0.7806\n",
      "Epoch 13/25\n",
      "340/340 [==============================] - 1s 3ms/step - loss: 0.4645 - accuracy: 0.7796 - val_loss: 0.4686 - val_accuracy: 0.7806\n",
      "Epoch 14/25\n",
      "340/340 [==============================] - 1s 3ms/step - loss: 0.4601 - accuracy: 0.7798 - val_loss: 0.4631 - val_accuracy: 0.7855\n",
      "Epoch 15/25\n",
      "340/340 [==============================] - 1s 2ms/step - loss: 0.4580 - accuracy: 0.7840 - val_loss: 0.4635 - val_accuracy: 0.7830\n",
      "Epoch 16/25\n",
      "340/340 [==============================] - 1s 3ms/step - loss: 0.4573 - accuracy: 0.7862 - val_loss: 0.4634 - val_accuracy: 0.7835\n",
      "Epoch 17/25\n",
      "340/340 [==============================] - 1s 3ms/step - loss: 0.4536 - accuracy: 0.7885 - val_loss: 0.4644 - val_accuracy: 0.7865\n",
      "Epoch 18/25\n",
      "340/340 [==============================] - 1s 3ms/step - loss: 0.4564 - accuracy: 0.7917 - val_loss: 0.4638 - val_accuracy: 0.7801\n",
      "Epoch 19/25\n",
      "340/340 [==============================] - 1s 3ms/step - loss: 0.4585 - accuracy: 0.7824 - val_loss: 0.4614 - val_accuracy: 0.7879\n",
      "Epoch 20/25\n",
      "340/340 [==============================] - 1s 3ms/step - loss: 0.4547 - accuracy: 0.7864 - val_loss: 0.4618 - val_accuracy: 0.7850\n",
      "Epoch 21/25\n",
      "340/340 [==============================] - 1s 3ms/step - loss: 0.4516 - accuracy: 0.7910 - val_loss: 0.4623 - val_accuracy: 0.7869\n",
      "Epoch 22/25\n",
      "340/340 [==============================] - 1s 3ms/step - loss: 0.4521 - accuracy: 0.7850 - val_loss: 0.4666 - val_accuracy: 0.7855\n",
      "Epoch 23/25\n",
      "340/340 [==============================] - 1s 2ms/step - loss: 0.4504 - accuracy: 0.7894 - val_loss: 0.4638 - val_accuracy: 0.7889\n",
      "Epoch 24/25\n",
      "340/340 [==============================] - 1s 3ms/step - loss: 0.4490 - accuracy: 0.7868 - val_loss: 0.4565 - val_accuracy: 0.7845\n",
      "Epoch 25/25\n",
      "340/340 [==============================] - 1s 3ms/step - loss: 0.4490 - accuracy: 0.7934 - val_loss: 0.4632 - val_accuracy: 0.7904\n"
     ]
    },
    {
     "data": {
      "text/plain": [
       "<tensorflow.python.keras.callbacks.History at 0x7fc213306bd0>"
      ]
     },
     "execution_count": 268,
     "metadata": {
      "tags": []
     },
     "output_type": "execute_result"
    }
   ],
   "source": [
    "model.fit(x = X_train, y= y_train, validation_data=(X_test,y_test),\n",
    "              epochs=25,\n",
    "          batch_size=24)"
   ]
  },
  {
   "cell_type": "code",
   "execution_count": 252,
   "metadata": {
    "id": "MTHmuMT1EJWR"
   },
   "outputs": [],
   "source": [
    "test_ori = pd.read_csv('/content/drive/MyDrive/Colab Notebooks/test_ori_dl.csv')\n",
    "test_ori.drop('Unnamed: 0',axis=1,inplace=True)"
   ]
  },
  {
   "cell_type": "code",
   "execution_count": 253,
   "metadata": {
    "id": "AwOYEeBQZ4KN"
   },
   "outputs": [],
   "source": [
    "test_ori1 = test_ori.copy()"
   ]
  },
  {
   "cell_type": "code",
   "execution_count": 254,
   "metadata": {
    "id": "ZluQHFTZFokt"
   },
   "outputs": [],
   "source": [
    "from sklearn.preprocessing import LabelEncoder\n",
    "from sklearn.preprocessing import MinMaxScaler\n",
    "le = LabelEncoder()\n",
    "for col in categorical_le:\n",
    "  test_ori1[col] = le.fit_transform(test_ori1[col])\n",
    "  \n",
    "scaler = MinMaxScaler()\n",
    "test_ori1[numerical_features] = scaler.fit_transform(test_ori1[numerical_features])\n",
    "test_ori1 = pd.get_dummies(data=test_ori1, columns=categorical_ohe)"
   ]
  },
  {
   "cell_type": "code",
   "execution_count": 255,
   "metadata": {
    "colab": {
     "base_uri": "https://localhost:8080/",
     "height": 338
    },
    "id": "3thjmz8fGAHT",
    "outputId": "3180c5ad-1bf3-462e-da5e-2a0c29b06454"
   },
   "outputs": [
    {
     "data": {
      "text/html": [
       "<div>\n",
       "<style scoped>\n",
       "    .dataframe tbody tr th:only-of-type {\n",
       "        vertical-align: middle;\n",
       "    }\n",
       "\n",
       "    .dataframe tbody tr th {\n",
       "        vertical-align: top;\n",
       "    }\n",
       "\n",
       "    .dataframe thead th {\n",
       "        text-align: right;\n",
       "    }\n",
       "</style>\n",
       "<table border=\"1\" class=\"dataframe\">\n",
       "  <thead>\n",
       "    <tr style=\"text-align: right;\">\n",
       "      <th></th>\n",
       "      <th>customerID</th>\n",
       "      <th>gender</th>\n",
       "      <th>SeniorCitizen</th>\n",
       "      <th>Partner</th>\n",
       "      <th>Dependents</th>\n",
       "      <th>tenure</th>\n",
       "      <th>PhoneService</th>\n",
       "      <th>PaperlessBilling</th>\n",
       "      <th>MonthlyCharges</th>\n",
       "      <th>TotalCharges</th>\n",
       "      <th>Churn</th>\n",
       "      <th>MultipleLines_No</th>\n",
       "      <th>MultipleLines_No phone service</th>\n",
       "      <th>MultipleLines_Yes</th>\n",
       "      <th>InternetService_DSL</th>\n",
       "      <th>InternetService_Fiber optic</th>\n",
       "      <th>InternetService_No</th>\n",
       "      <th>OnlineSecurity_No</th>\n",
       "      <th>OnlineSecurity_No internet service</th>\n",
       "      <th>OnlineSecurity_Yes</th>\n",
       "      <th>OnlineBackup_No</th>\n",
       "      <th>OnlineBackup_No internet service</th>\n",
       "      <th>OnlineBackup_Yes</th>\n",
       "      <th>DeviceProtection_No</th>\n",
       "      <th>DeviceProtection_No internet service</th>\n",
       "      <th>DeviceProtection_Yes</th>\n",
       "      <th>TechSupport_No</th>\n",
       "      <th>TechSupport_No internet service</th>\n",
       "      <th>TechSupport_Yes</th>\n",
       "      <th>StreamingTV_No</th>\n",
       "      <th>StreamingTV_No internet service</th>\n",
       "      <th>StreamingTV_Yes</th>\n",
       "      <th>StreamingMovies_No</th>\n",
       "      <th>StreamingMovies_No internet service</th>\n",
       "      <th>StreamingMovies_Yes</th>\n",
       "      <th>Contract_Month-to-month</th>\n",
       "      <th>Contract_One year</th>\n",
       "      <th>Contract_Two year</th>\n",
       "      <th>PaymentMethod_Bank transfer (automatic)</th>\n",
       "      <th>PaymentMethod_Credit card (automatic)</th>\n",
       "      <th>PaymentMethod_Electronic check</th>\n",
       "      <th>PaymentMethod_Mailed check</th>\n",
       "    </tr>\n",
       "  </thead>\n",
       "  <tbody>\n",
       "    <tr>\n",
       "      <th>0</th>\n",
       "      <td>0032-PGELS</td>\n",
       "      <td>0</td>\n",
       "      <td>0</td>\n",
       "      <td>1</td>\n",
       "      <td>1</td>\n",
       "      <td>0.000000</td>\n",
       "      <td>0</td>\n",
       "      <td>0</td>\n",
       "      <td>0.122779</td>\n",
       "      <td>0.001329</td>\n",
       "      <td>1</td>\n",
       "      <td>0</td>\n",
       "      <td>1</td>\n",
       "      <td>0</td>\n",
       "      <td>1</td>\n",
       "      <td>0</td>\n",
       "      <td>0</td>\n",
       "      <td>0</td>\n",
       "      <td>0</td>\n",
       "      <td>1</td>\n",
       "      <td>1</td>\n",
       "      <td>0</td>\n",
       "      <td>0</td>\n",
       "      <td>1</td>\n",
       "      <td>0</td>\n",
       "      <td>0</td>\n",
       "      <td>1</td>\n",
       "      <td>0</td>\n",
       "      <td>0</td>\n",
       "      <td>1</td>\n",
       "      <td>0</td>\n",
       "      <td>0</td>\n",
       "      <td>1</td>\n",
       "      <td>0</td>\n",
       "      <td>0</td>\n",
       "      <td>1</td>\n",
       "      <td>0</td>\n",
       "      <td>0</td>\n",
       "      <td>1</td>\n",
       "      <td>0</td>\n",
       "      <td>0</td>\n",
       "      <td>0</td>\n",
       "    </tr>\n",
       "    <tr>\n",
       "      <th>1</th>\n",
       "      <td>9039-ZVJDC</td>\n",
       "      <td>1</td>\n",
       "      <td>0</td>\n",
       "      <td>0</td>\n",
       "      <td>0</td>\n",
       "      <td>0.028169</td>\n",
       "      <td>1</td>\n",
       "      <td>1</td>\n",
       "      <td>0.000000</td>\n",
       "      <td>0.004326</td>\n",
       "      <td>0</td>\n",
       "      <td>1</td>\n",
       "      <td>0</td>\n",
       "      <td>0</td>\n",
       "      <td>0</td>\n",
       "      <td>0</td>\n",
       "      <td>1</td>\n",
       "      <td>0</td>\n",
       "      <td>1</td>\n",
       "      <td>0</td>\n",
       "      <td>0</td>\n",
       "      <td>1</td>\n",
       "      <td>0</td>\n",
       "      <td>0</td>\n",
       "      <td>1</td>\n",
       "      <td>0</td>\n",
       "      <td>0</td>\n",
       "      <td>1</td>\n",
       "      <td>0</td>\n",
       "      <td>0</td>\n",
       "      <td>1</td>\n",
       "      <td>0</td>\n",
       "      <td>0</td>\n",
       "      <td>1</td>\n",
       "      <td>0</td>\n",
       "      <td>1</td>\n",
       "      <td>0</td>\n",
       "      <td>0</td>\n",
       "      <td>0</td>\n",
       "      <td>0</td>\n",
       "      <td>0</td>\n",
       "      <td>1</td>\n",
       "    </tr>\n",
       "    <tr>\n",
       "      <th>2</th>\n",
       "      <td>6797-LNAQX</td>\n",
       "      <td>1</td>\n",
       "      <td>0</td>\n",
       "      <td>1</td>\n",
       "      <td>1</td>\n",
       "      <td>0.971831</td>\n",
       "      <td>1</td>\n",
       "      <td>0</td>\n",
       "      <td>0.852989</td>\n",
       "      <td>0.908982</td>\n",
       "      <td>1</td>\n",
       "      <td>0</td>\n",
       "      <td>0</td>\n",
       "      <td>1</td>\n",
       "      <td>0</td>\n",
       "      <td>1</td>\n",
       "      <td>0</td>\n",
       "      <td>1</td>\n",
       "      <td>0</td>\n",
       "      <td>0</td>\n",
       "      <td>0</td>\n",
       "      <td>0</td>\n",
       "      <td>1</td>\n",
       "      <td>1</td>\n",
       "      <td>0</td>\n",
       "      <td>0</td>\n",
       "      <td>1</td>\n",
       "      <td>0</td>\n",
       "      <td>0</td>\n",
       "      <td>0</td>\n",
       "      <td>0</td>\n",
       "      <td>1</td>\n",
       "      <td>0</td>\n",
       "      <td>0</td>\n",
       "      <td>1</td>\n",
       "      <td>0</td>\n",
       "      <td>0</td>\n",
       "      <td>1</td>\n",
       "      <td>1</td>\n",
       "      <td>0</td>\n",
       "      <td>0</td>\n",
       "      <td>0</td>\n",
       "    </tr>\n",
       "    <tr>\n",
       "      <th>3</th>\n",
       "      <td>9013-AQORL</td>\n",
       "      <td>0</td>\n",
       "      <td>0</td>\n",
       "      <td>0</td>\n",
       "      <td>1</td>\n",
       "      <td>0.661972</td>\n",
       "      <td>0</td>\n",
       "      <td>0</td>\n",
       "      <td>0.284868</td>\n",
       "      <td>0.277499</td>\n",
       "      <td>0</td>\n",
       "      <td>0</td>\n",
       "      <td>1</td>\n",
       "      <td>0</td>\n",
       "      <td>1</td>\n",
       "      <td>0</td>\n",
       "      <td>0</td>\n",
       "      <td>1</td>\n",
       "      <td>0</td>\n",
       "      <td>0</td>\n",
       "      <td>0</td>\n",
       "      <td>0</td>\n",
       "      <td>1</td>\n",
       "      <td>0</td>\n",
       "      <td>0</td>\n",
       "      <td>1</td>\n",
       "      <td>1</td>\n",
       "      <td>0</td>\n",
       "      <td>0</td>\n",
       "      <td>1</td>\n",
       "      <td>0</td>\n",
       "      <td>0</td>\n",
       "      <td>0</td>\n",
       "      <td>0</td>\n",
       "      <td>1</td>\n",
       "      <td>1</td>\n",
       "      <td>0</td>\n",
       "      <td>0</td>\n",
       "      <td>0</td>\n",
       "      <td>1</td>\n",
       "      <td>0</td>\n",
       "      <td>0</td>\n",
       "    </tr>\n",
       "    <tr>\n",
       "      <th>4</th>\n",
       "      <td>2898-MRKPI</td>\n",
       "      <td>1</td>\n",
       "      <td>0</td>\n",
       "      <td>1</td>\n",
       "      <td>1</td>\n",
       "      <td>0.943662</td>\n",
       "      <td>1</td>\n",
       "      <td>1</td>\n",
       "      <td>0.882606</td>\n",
       "      <td>0.897153</td>\n",
       "      <td>0</td>\n",
       "      <td>0</td>\n",
       "      <td>0</td>\n",
       "      <td>1</td>\n",
       "      <td>0</td>\n",
       "      <td>1</td>\n",
       "      <td>0</td>\n",
       "      <td>1</td>\n",
       "      <td>0</td>\n",
       "      <td>0</td>\n",
       "      <td>0</td>\n",
       "      <td>0</td>\n",
       "      <td>1</td>\n",
       "      <td>1</td>\n",
       "      <td>0</td>\n",
       "      <td>0</td>\n",
       "      <td>1</td>\n",
       "      <td>0</td>\n",
       "      <td>0</td>\n",
       "      <td>0</td>\n",
       "      <td>0</td>\n",
       "      <td>1</td>\n",
       "      <td>0</td>\n",
       "      <td>0</td>\n",
       "      <td>1</td>\n",
       "      <td>0</td>\n",
       "      <td>1</td>\n",
       "      <td>0</td>\n",
       "      <td>0</td>\n",
       "      <td>1</td>\n",
       "      <td>0</td>\n",
       "      <td>0</td>\n",
       "    </tr>\n",
       "  </tbody>\n",
       "</table>\n",
       "</div>"
      ],
      "text/plain": [
       "   customerID  ...  PaymentMethod_Mailed check\n",
       "0  0032-PGELS  ...                           0\n",
       "1  9039-ZVJDC  ...                           1\n",
       "2  6797-LNAQX  ...                           0\n",
       "3  9013-AQORL  ...                           0\n",
       "4  2898-MRKPI  ...                           0\n",
       "\n",
       "[5 rows x 42 columns]"
      ]
     },
     "execution_count": 255,
     "metadata": {
      "tags": []
     },
     "output_type": "execute_result"
    }
   ],
   "source": [
    "test_ori1.head()"
   ]
  },
  {
   "cell_type": "code",
   "execution_count": 269,
   "metadata": {
    "colab": {
     "base_uri": "https://localhost:8080/"
    },
    "id": "09K6nDW1GJsE",
    "outputId": "29850221-551e-4009-9c5a-b9e812304305"
   },
   "outputs": [
    {
     "name": "stderr",
     "output_type": "stream",
     "text": [
      "/usr/local/lib/python3.7/dist-packages/tensorflow/python/keras/engine/sequential.py:455: UserWarning: `model.predict_classes()` is deprecated and will be removed after 2021-01-01. Please use instead:* `np.argmax(model.predict(x), axis=-1)`,   if your model does multi-class classification   (e.g. if it uses a `softmax` last-layer activation).* `(model.predict(x) > 0.5).astype(\"int32\")`,   if your model does binary classification   (e.g. if it uses a `sigmoid` last-layer activation).\n",
      "  warnings.warn('`model.predict_classes()` is deprecated and '\n"
     ]
    }
   ],
   "source": [
    "predict_churn = model.predict_classes(test_ori1.drop(['customerID','Churn'],axis=1))"
   ]
  },
  {
   "cell_type": "code",
   "execution_count": 140,
   "metadata": {
    "colab": {
     "base_uri": "https://localhost:8080/"
    },
    "id": "dVyRt_zfGixF",
    "outputId": "8c2f919e-d999-416e-8fb5-51ac88f11787"
   },
   "outputs": [
    {
     "data": {
      "text/plain": [
       "array([[0],\n",
       "       [0],\n",
       "       [0],\n",
       "       [0],\n",
       "       [0],\n",
       "       [0],\n",
       "       [0],\n",
       "       [0],\n",
       "       [0],\n",
       "       [0],\n",
       "       [1],\n",
       "       [0],\n",
       "       [1],\n",
       "       [0],\n",
       "       [1],\n",
       "       [0],\n",
       "       [0],\n",
       "       [1],\n",
       "       [0],\n",
       "       [1],\n",
       "       [1],\n",
       "       [0],\n",
       "       [0],\n",
       "       [0],\n",
       "       [1],\n",
       "       [1],\n",
       "       [0],\n",
       "       [1],\n",
       "       [1],\n",
       "       [0],\n",
       "       [0],\n",
       "       [0],\n",
       "       [0],\n",
       "       [0],\n",
       "       [0],\n",
       "       [0],\n",
       "       [0],\n",
       "       [0],\n",
       "       [0],\n",
       "       [0],\n",
       "       [0],\n",
       "       [0],\n",
       "       [0],\n",
       "       [0],\n",
       "       [0],\n",
       "       [0],\n",
       "       [0],\n",
       "       [0],\n",
       "       [1],\n",
       "       [0],\n",
       "       [1],\n",
       "       [0],\n",
       "       [0],\n",
       "       [0],\n",
       "       [0],\n",
       "       [1],\n",
       "       [0],\n",
       "       [0],\n",
       "       [0],\n",
       "       [0],\n",
       "       [0],\n",
       "       [0],\n",
       "       [0],\n",
       "       [0],\n",
       "       [0],\n",
       "       [1],\n",
       "       [1],\n",
       "       [1],\n",
       "       [0],\n",
       "       [0],\n",
       "       [0],\n",
       "       [1],\n",
       "       [0],\n",
       "       [0],\n",
       "       [0],\n",
       "       [1],\n",
       "       [0],\n",
       "       [0],\n",
       "       [0],\n",
       "       [0],\n",
       "       [0],\n",
       "       [0],\n",
       "       [1],\n",
       "       [0],\n",
       "       [0],\n",
       "       [0],\n",
       "       [1],\n",
       "       [0],\n",
       "       [0],\n",
       "       [1],\n",
       "       [0],\n",
       "       [0],\n",
       "       [1],\n",
       "       [0],\n",
       "       [0],\n",
       "       [0],\n",
       "       [0],\n",
       "       [0],\n",
       "       [1],\n",
       "       [0]], dtype=int32)"
      ]
     },
     "execution_count": 140,
     "metadata": {
      "tags": []
     },
     "output_type": "execute_result"
    }
   ],
   "source": [
    "predict_churn"
   ]
  },
  {
   "cell_type": "code",
   "execution_count": 258,
   "metadata": {
    "colab": {
     "base_uri": "https://localhost:8080/"
    },
    "id": "fSyCVP-BEQuk",
    "outputId": "a23077eb-4fc6-4718-95e4-fa56136383e8"
   },
   "outputs": [
    {
     "data": {
      "text/plain": [
       "0     1\n",
       "1     0\n",
       "2     1\n",
       "3     0\n",
       "4     0\n",
       "     ..\n",
       "95    0\n",
       "96    0\n",
       "97    0\n",
       "98    1\n",
       "99    0\n",
       "Name: Churn, Length: 100, dtype: int64"
      ]
     },
     "execution_count": 258,
     "metadata": {
      "tags": []
     },
     "output_type": "execute_result"
    }
   ],
   "source": [
    "churn = test_ori1['Churn']\n",
    "churn"
   ]
  },
  {
   "cell_type": "code",
   "execution_count": 270,
   "metadata": {
    "colab": {
     "base_uri": "https://localhost:8080/"
    },
    "id": "JGTzkg7bD3CX",
    "outputId": "bf5fc7ab-5f4a-4748-a95c-7009c87431cc"
   },
   "outputs": [
    {
     "name": "stdout",
     "output_type": "stream",
     "text": [
      "[[50 20]\n",
      " [ 9 21]]\n",
      "              precision    recall  f1-score   support\n",
      "\n",
      "           0       0.85      0.71      0.78        70\n",
      "           1       0.51      0.70      0.59        30\n",
      "\n",
      "    accuracy                           0.71       100\n",
      "   macro avg       0.68      0.71      0.68       100\n",
      "weighted avg       0.75      0.71      0.72       100\n",
      "\n",
      "0.71\n"
     ]
    }
   ],
   "source": [
    "from sklearn.metrics import classification_report, confusion_matrix,accuracy_score\n",
    "print(confusion_matrix(churn,predict_churn))\n",
    "print(classification_report(churn,predict_churn))\n",
    "print(accuracy_score(churn,predict_churn))"
   ]
  },
  {
   "cell_type": "markdown",
   "metadata": {
    "id": "9kcuWagiKmDf"
   },
   "source": [
    "Beda model"
   ]
  },
  {
   "cell_type": "code",
   "execution_count": 168,
   "metadata": {
    "colab": {
     "base_uri": "https://localhost:8080/"
    },
    "id": "MYUnznSyKke2",
    "outputId": "7fc9adbb-6316-4099-cc95-ae4eec6f6cc5"
   },
   "outputs": [
    {
     "name": "stdout",
     "output_type": "stream",
     "text": [
      "Epoch 1/100\n",
      "347/347 [==============================] - 2s 3ms/step - loss: 0.6201 - accuracy: 0.7740 - val_loss: 0.5422 - val_accuracy: 0.8017\n",
      "Epoch 2/100\n",
      "347/347 [==============================] - 1s 2ms/step - loss: 0.5244 - accuracy: 0.7900 - val_loss: 0.5039 - val_accuracy: 0.8061\n",
      "Epoch 3/100\n",
      "347/347 [==============================] - 1s 2ms/step - loss: 0.4883 - accuracy: 0.7909 - val_loss: 0.4743 - val_accuracy: 0.8046\n",
      "Epoch 4/100\n",
      "347/347 [==============================] - 1s 2ms/step - loss: 0.4720 - accuracy: 0.7996 - val_loss: 0.4591 - val_accuracy: 0.8053\n",
      "Epoch 5/100\n",
      "347/347 [==============================] - 1s 2ms/step - loss: 0.4565 - accuracy: 0.8021 - val_loss: 0.4540 - val_accuracy: 0.8046\n",
      "Epoch 6/100\n",
      "347/347 [==============================] - 1s 2ms/step - loss: 0.4516 - accuracy: 0.7982 - val_loss: 0.4497 - val_accuracy: 0.8003\n",
      "Epoch 7/100\n",
      "347/347 [==============================] - 1s 2ms/step - loss: 0.4502 - accuracy: 0.8027 - val_loss: 0.4480 - val_accuracy: 0.8075\n",
      "Epoch 8/100\n",
      "347/347 [==============================] - 1s 2ms/step - loss: 0.4422 - accuracy: 0.7982 - val_loss: 0.4416 - val_accuracy: 0.7996\n",
      "Epoch 9/100\n",
      "347/347 [==============================] - 1s 2ms/step - loss: 0.4399 - accuracy: 0.7983 - val_loss: 0.4436 - val_accuracy: 0.8039\n",
      "Epoch 10/100\n",
      "347/347 [==============================] - 1s 2ms/step - loss: 0.4408 - accuracy: 0.7989 - val_loss: 0.4518 - val_accuracy: 0.7815\n"
     ]
    }
   ],
   "source": [
    "from tensorflow.keras.callbacks import EarlyStopping\n",
    "from tensorflow.keras.regularizers import l2\n",
    "ann = Sequential()\n",
    "ann.add(Dense(units = 200,activation=\"relu\", kernel_regularizer=l2(0.001)))\n",
    "ann.add(Dropout(0.2))\n",
    "ann.add(Dense(units = 100, activation=\"relu\",kernel_regularizer=l2(0.001)))\n",
    "ann.add(Dropout(0.2))\n",
    "ann.add(Dense(units = 50, activation=\"relu\",kernel_regularizer=l2(0.001)))\n",
    "ann.add(Dense(1,activation=\"sigmoid\")) \n",
    "ann.compile(optimizer = \"adam\", loss=\"binary_crossentropy\",metrics=[\"accuracy\"])\n",
    "callback=EarlyStopping(monitor=\"val_loss\", patience=2)\n",
    "history = ann.fit(x = X_train, y= y_train, validation_data=(X_test,y_test), batch_size=16, epochs=100,callbacks=[callback])"
   ]
  },
  {
   "cell_type": "markdown",
   "metadata": {
    "id": "1ZMCIxg_M1Ir"
   },
   "source": [
    "Percobaan 2"
   ]
  },
  {
   "cell_type": "code",
   "execution_count": 239,
   "metadata": {
    "colab": {
     "base_uri": "https://localhost:8080/"
    },
    "id": "ZCdwYnvOM3of",
    "outputId": "4623444d-365d-4adb-ed15-3940284b67e5"
   },
   "outputs": [
    {
     "name": "stderr",
     "output_type": "stream",
     "text": [
      "/usr/local/lib/python3.7/dist-packages/sklearn/utils/deprecation.py:87: FutureWarning: Function safe_indexing is deprecated; safe_indexing is deprecated in version 0.22 and will be removed in version 0.24.\n",
      "  warnings.warn(msg, category=FutureWarning)\n"
     ]
    }
   ],
   "source": [
    "from imblearn.over_sampling import SMOTE\n",
    "sm = SMOTE(random_state=42)\n",
    "smote_x_train, smote_y_train = sm.fit_resample(X_train, y_train)"
   ]
  },
  {
   "cell_type": "code",
   "execution_count": 240,
   "metadata": {
    "id": "grW0MVwBNs8f"
   },
   "outputs": [],
   "source": [
    "smote_x_train = pd.DataFrame(smote_x_train, columns = X_train.columns)\n",
    "smote_y_train = pd.DataFrame(smote_y_train, columns = ['Churn'])"
   ]
  },
  {
   "cell_type": "code",
   "execution_count": 176,
   "metadata": {
    "id": "5QpAqd4XNvat"
   },
   "outputs": [],
   "source": [
    "model_smote = Sequential()\n",
    "model_smote.add(Dense(32, input_dim=input_shape, kernel_initializer='uniform', activation='relu'))\n",
    "model_smote.add(Dropout(0.5))\n",
    "model_smote.add(Dense(64, activation='relu'))\n",
    "model_smote.add(Dropout(0.25))\n",
    "model_smote.add(Dense(128, activation='relu'))\n",
    "model_smote.add(Dropout(0.25))\n",
    "model_smote.add(Dense(1, activation='sigmoid'))"
   ]
  },
  {
   "cell_type": "code",
   "execution_count": 177,
   "metadata": {
    "id": "biOyNzvaN8At"
   },
   "outputs": [],
   "source": [
    "model_smote.compile(loss='binary_crossentropy',\n",
    "              optimizer='adam',\n",
    "              metrics=['accuracy'])"
   ]
  },
  {
   "cell_type": "code",
   "execution_count": 178,
   "metadata": {
    "colab": {
     "base_uri": "https://localhost:8080/"
    },
    "id": "tlgDsV3SN9UR",
    "outputId": "442746df-eb2f-4e9a-ee32-dfa9ab6a96f5"
   },
   "outputs": [
    {
     "name": "stdout",
     "output_type": "stream",
     "text": [
      "Epoch 1/25\n",
      "339/339 [==============================] - 1s 2ms/step - loss: 0.5331 - accuracy: 0.7418 - val_loss: 0.5100 - val_accuracy: 0.7404\n",
      "Epoch 2/25\n",
      "339/339 [==============================] - 1s 2ms/step - loss: 0.4886 - accuracy: 0.7675 - val_loss: 0.5078 - val_accuracy: 0.7426\n",
      "Epoch 3/25\n",
      "339/339 [==============================] - 1s 2ms/step - loss: 0.4812 - accuracy: 0.7660 - val_loss: 0.4891 - val_accuracy: 0.7635\n",
      "Epoch 4/25\n",
      "339/339 [==============================] - 1s 2ms/step - loss: 0.4778 - accuracy: 0.7706 - val_loss: 0.5014 - val_accuracy: 0.7498\n",
      "Epoch 5/25\n",
      "339/339 [==============================] - 1s 2ms/step - loss: 0.4741 - accuracy: 0.7740 - val_loss: 0.4901 - val_accuracy: 0.7549\n",
      "Epoch 6/25\n",
      "339/339 [==============================] - 1s 2ms/step - loss: 0.4706 - accuracy: 0.7758 - val_loss: 0.4945 - val_accuracy: 0.7606\n",
      "Epoch 7/25\n",
      "339/339 [==============================] - 1s 2ms/step - loss: 0.4686 - accuracy: 0.7795 - val_loss: 0.4916 - val_accuracy: 0.7498\n",
      "Epoch 8/25\n",
      "339/339 [==============================] - 1s 2ms/step - loss: 0.4673 - accuracy: 0.7768 - val_loss: 0.4867 - val_accuracy: 0.7570\n",
      "Epoch 9/25\n",
      "339/339 [==============================] - 1s 2ms/step - loss: 0.4674 - accuracy: 0.7765 - val_loss: 0.5138 - val_accuracy: 0.7477\n",
      "Epoch 10/25\n",
      "339/339 [==============================] - 1s 2ms/step - loss: 0.4656 - accuracy: 0.7818 - val_loss: 0.4918 - val_accuracy: 0.7599\n",
      "Epoch 11/25\n",
      "339/339 [==============================] - 1s 2ms/step - loss: 0.4635 - accuracy: 0.7806 - val_loss: 0.4874 - val_accuracy: 0.7606\n",
      "Epoch 12/25\n",
      "339/339 [==============================] - 1s 2ms/step - loss: 0.4619 - accuracy: 0.7787 - val_loss: 0.4890 - val_accuracy: 0.7614\n",
      "Epoch 13/25\n",
      "339/339 [==============================] - 1s 2ms/step - loss: 0.4604 - accuracy: 0.7846 - val_loss: 0.5068 - val_accuracy: 0.7477\n",
      "Epoch 14/25\n",
      "339/339 [==============================] - 1s 2ms/step - loss: 0.4574 - accuracy: 0.7834 - val_loss: 0.4924 - val_accuracy: 0.7448\n",
      "Epoch 15/25\n",
      "339/339 [==============================] - 1s 2ms/step - loss: 0.4588 - accuracy: 0.7797 - val_loss: 0.4966 - val_accuracy: 0.7541\n",
      "Epoch 16/25\n",
      "339/339 [==============================] - 1s 2ms/step - loss: 0.4552 - accuracy: 0.7816 - val_loss: 0.4874 - val_accuracy: 0.7578\n",
      "Epoch 17/25\n",
      "339/339 [==============================] - 1s 2ms/step - loss: 0.4580 - accuracy: 0.7795 - val_loss: 0.5016 - val_accuracy: 0.7599\n",
      "Epoch 18/25\n",
      "339/339 [==============================] - 1s 2ms/step - loss: 0.4536 - accuracy: 0.7827 - val_loss: 0.5016 - val_accuracy: 0.7505\n",
      "Epoch 19/25\n",
      "339/339 [==============================] - 1s 2ms/step - loss: 0.4538 - accuracy: 0.7861 - val_loss: 0.5034 - val_accuracy: 0.7448\n",
      "Epoch 20/25\n",
      "339/339 [==============================] - 1s 2ms/step - loss: 0.4531 - accuracy: 0.7819 - val_loss: 0.4833 - val_accuracy: 0.7729\n",
      "Epoch 21/25\n",
      "339/339 [==============================] - 1s 2ms/step - loss: 0.4569 - accuracy: 0.7834 - val_loss: 0.4981 - val_accuracy: 0.7592\n",
      "Epoch 22/25\n",
      "339/339 [==============================] - 1s 2ms/step - loss: 0.4501 - accuracy: 0.7845 - val_loss: 0.5120 - val_accuracy: 0.7325\n",
      "Epoch 23/25\n",
      "339/339 [==============================] - 1s 2ms/step - loss: 0.4493 - accuracy: 0.7853 - val_loss: 0.4820 - val_accuracy: 0.7664\n",
      "Epoch 24/25\n",
      "339/339 [==============================] - 1s 2ms/step - loss: 0.4497 - accuracy: 0.7841 - val_loss: 0.4945 - val_accuracy: 0.7578\n",
      "Epoch 25/25\n",
      "339/339 [==============================] - 1s 2ms/step - loss: 0.4487 - accuracy: 0.7868 - val_loss: 0.4773 - val_accuracy: 0.7592\n"
     ]
    },
    {
     "data": {
      "text/plain": [
       "<tensorflow.python.keras.callbacks.History at 0x7fc215407b50>"
      ]
     },
     "execution_count": 178,
     "metadata": {
      "tags": []
     },
     "output_type": "execute_result"
    }
   ],
   "source": [
    "model_smote.fit(x = smote_x_train, y= smote_y_train, validation_data=(X_test,y_test),\n",
    "              epochs=25,\n",
    "          batch_size=24)"
   ]
  },
  {
   "cell_type": "code",
   "execution_count": 182,
   "metadata": {
    "colab": {
     "base_uri": "https://localhost:8080/"
    },
    "id": "28ysVqYAObXJ",
    "outputId": "1f41fee6-90ed-4b51-9bb2-e9c90aa6e254"
   },
   "outputs": [
    {
     "data": {
      "text/plain": [
       "Churn\n",
       "0    4062\n",
       "1    4062\n",
       "dtype: int64"
      ]
     },
     "execution_count": 182,
     "metadata": {
      "tags": []
     },
     "output_type": "execute_result"
    }
   ],
   "source": [
    "smote_y_train.groupby('Churn').size()"
   ]
  },
  {
   "cell_type": "markdown",
   "metadata": {
    "id": "Mk_dxYzvQoMr"
   },
   "source": [
    "Percobaan 3"
   ]
  },
  {
   "cell_type": "code",
   "execution_count": 287,
   "metadata": {
    "colab": {
     "base_uri": "https://localhost:8080/",
     "height": 288
    },
    "id": "XYzvYqrAQllQ",
    "outputId": "1cebd866-24b7-4aa1-f1e9-f7411f5c733e"
   },
   "outputs": [
    {
     "data": {
      "text/html": [
       "<div>\n",
       "<style scoped>\n",
       "    .dataframe tbody tr th:only-of-type {\n",
       "        vertical-align: middle;\n",
       "    }\n",
       "\n",
       "    .dataframe tbody tr th {\n",
       "        vertical-align: top;\n",
       "    }\n",
       "\n",
       "    .dataframe thead th {\n",
       "        text-align: right;\n",
       "    }\n",
       "</style>\n",
       "<table border=\"1\" class=\"dataframe\">\n",
       "  <thead>\n",
       "    <tr style=\"text-align: right;\">\n",
       "      <th></th>\n",
       "      <th>gender</th>\n",
       "      <th>SeniorCitizen</th>\n",
       "      <th>Partner</th>\n",
       "      <th>Dependents</th>\n",
       "      <th>tenure</th>\n",
       "      <th>PhoneService</th>\n",
       "      <th>MultipleLines</th>\n",
       "      <th>InternetService</th>\n",
       "      <th>OnlineSecurity</th>\n",
       "      <th>OnlineBackup</th>\n",
       "      <th>DeviceProtection</th>\n",
       "      <th>TechSupport</th>\n",
       "      <th>StreamingTV</th>\n",
       "      <th>StreamingMovies</th>\n",
       "      <th>Contract</th>\n",
       "      <th>PaperlessBilling</th>\n",
       "      <th>PaymentMethod</th>\n",
       "      <th>MonthlyCharges</th>\n",
       "      <th>TotalCharges</th>\n",
       "      <th>Churn</th>\n",
       "    </tr>\n",
       "  </thead>\n",
       "  <tbody>\n",
       "    <tr>\n",
       "      <th>0</th>\n",
       "      <td>Female</td>\n",
       "      <td>0</td>\n",
       "      <td>Yes</td>\n",
       "      <td>No</td>\n",
       "      <td>1</td>\n",
       "      <td>No</td>\n",
       "      <td>No phone service</td>\n",
       "      <td>DSL</td>\n",
       "      <td>No</td>\n",
       "      <td>Yes</td>\n",
       "      <td>No</td>\n",
       "      <td>No</td>\n",
       "      <td>No</td>\n",
       "      <td>No</td>\n",
       "      <td>Month-to-month</td>\n",
       "      <td>Yes</td>\n",
       "      <td>Electronic check</td>\n",
       "      <td>29.85</td>\n",
       "      <td>29.85</td>\n",
       "      <td>No</td>\n",
       "    </tr>\n",
       "    <tr>\n",
       "      <th>1</th>\n",
       "      <td>Male</td>\n",
       "      <td>0</td>\n",
       "      <td>No</td>\n",
       "      <td>No</td>\n",
       "      <td>34</td>\n",
       "      <td>Yes</td>\n",
       "      <td>No</td>\n",
       "      <td>DSL</td>\n",
       "      <td>Yes</td>\n",
       "      <td>No</td>\n",
       "      <td>Yes</td>\n",
       "      <td>No</td>\n",
       "      <td>No</td>\n",
       "      <td>No</td>\n",
       "      <td>One year</td>\n",
       "      <td>No</td>\n",
       "      <td>Mailed check</td>\n",
       "      <td>56.95</td>\n",
       "      <td>1889.50</td>\n",
       "      <td>No</td>\n",
       "    </tr>\n",
       "    <tr>\n",
       "      <th>2</th>\n",
       "      <td>Male</td>\n",
       "      <td>0</td>\n",
       "      <td>No</td>\n",
       "      <td>No</td>\n",
       "      <td>2</td>\n",
       "      <td>Yes</td>\n",
       "      <td>No</td>\n",
       "      <td>DSL</td>\n",
       "      <td>Yes</td>\n",
       "      <td>Yes</td>\n",
       "      <td>No</td>\n",
       "      <td>No</td>\n",
       "      <td>No</td>\n",
       "      <td>No</td>\n",
       "      <td>Month-to-month</td>\n",
       "      <td>Yes</td>\n",
       "      <td>Mailed check</td>\n",
       "      <td>53.85</td>\n",
       "      <td>108.15</td>\n",
       "      <td>Yes</td>\n",
       "    </tr>\n",
       "    <tr>\n",
       "      <th>3</th>\n",
       "      <td>Male</td>\n",
       "      <td>0</td>\n",
       "      <td>No</td>\n",
       "      <td>No</td>\n",
       "      <td>45</td>\n",
       "      <td>No</td>\n",
       "      <td>No phone service</td>\n",
       "      <td>DSL</td>\n",
       "      <td>Yes</td>\n",
       "      <td>No</td>\n",
       "      <td>Yes</td>\n",
       "      <td>Yes</td>\n",
       "      <td>No</td>\n",
       "      <td>No</td>\n",
       "      <td>One year</td>\n",
       "      <td>No</td>\n",
       "      <td>Bank transfer (automatic)</td>\n",
       "      <td>42.30</td>\n",
       "      <td>1840.75</td>\n",
       "      <td>No</td>\n",
       "    </tr>\n",
       "    <tr>\n",
       "      <th>4</th>\n",
       "      <td>Female</td>\n",
       "      <td>0</td>\n",
       "      <td>No</td>\n",
       "      <td>No</td>\n",
       "      <td>2</td>\n",
       "      <td>Yes</td>\n",
       "      <td>No</td>\n",
       "      <td>Fiber optic</td>\n",
       "      <td>No</td>\n",
       "      <td>No</td>\n",
       "      <td>No</td>\n",
       "      <td>No</td>\n",
       "      <td>No</td>\n",
       "      <td>No</td>\n",
       "      <td>Month-to-month</td>\n",
       "      <td>Yes</td>\n",
       "      <td>Electronic check</td>\n",
       "      <td>70.70</td>\n",
       "      <td>151.65</td>\n",
       "      <td>Yes</td>\n",
       "    </tr>\n",
       "  </tbody>\n",
       "</table>\n",
       "</div>"
      ],
      "text/plain": [
       "   gender  SeniorCitizen Partner  ... MonthlyCharges  TotalCharges Churn\n",
       "0  Female              0     Yes  ...          29.85         29.85    No\n",
       "1    Male              0      No  ...          56.95       1889.50    No\n",
       "2    Male              0      No  ...          53.85        108.15   Yes\n",
       "3    Male              0      No  ...          42.30       1840.75    No\n",
       "4  Female              0      No  ...          70.70        151.65   Yes\n",
       "\n",
       "[5 rows x 20 columns]"
      ]
     },
     "execution_count": 287,
     "metadata": {
      "tags": []
     },
     "output_type": "execute_result"
    }
   ],
   "source": [
    "df_churn2 = df.copy()\n",
    "df_churn2.drop('customerID',axis=1,inplace=True)\n",
    "df_churn2.head()"
   ]
  },
  {
   "cell_type": "code",
   "execution_count": 288,
   "metadata": {
    "colab": {
     "base_uri": "https://localhost:8080/"
    },
    "id": "M0v7LYO4UmRf",
    "outputId": "f2639022-7078-4a73-b2e5-bfd8219f4ce0"
   },
   "outputs": [
    {
     "data": {
      "text/plain": [
       "Index(['gender', 'SeniorCitizen', 'Partner', 'Dependents', 'tenure',\n",
       "       'PhoneService', 'MultipleLines', 'InternetService', 'OnlineSecurity',\n",
       "       'OnlineBackup', 'DeviceProtection', 'TechSupport', 'StreamingTV',\n",
       "       'StreamingMovies', 'Contract', 'PaperlessBilling', 'PaymentMethod',\n",
       "       'MonthlyCharges', 'TotalCharges', 'Churn'],\n",
       "      dtype='object')"
      ]
     },
     "execution_count": 288,
     "metadata": {
      "tags": []
     },
     "output_type": "execute_result"
    }
   ],
   "source": [
    "df_churn2.columns"
   ]
  },
  {
   "cell_type": "code",
   "execution_count": 289,
   "metadata": {
    "colab": {
     "base_uri": "https://localhost:8080/"
    },
    "id": "KtX8LtqYUrnz",
    "outputId": "939f34c7-e685-4924-8d95-658442fa3582"
   },
   "outputs": [
    {
     "name": "stdout",
     "output_type": "stream",
     "text": [
      "gender: ['Female' 'Male']\n",
      "Partner: ['Yes' 'No']\n",
      "Dependents: ['No' 'Yes']\n",
      "PhoneService: ['No' 'Yes']\n",
      "MultipleLines: ['No phone service' 'No' 'Yes']\n",
      "InternetService: ['DSL' 'Fiber optic' 'No']\n",
      "OnlineSecurity: ['No' 'Yes' 'No internet service']\n",
      "OnlineBackup: ['Yes' 'No' 'No internet service']\n",
      "DeviceProtection: ['No' 'Yes' 'No internet service']\n",
      "TechSupport: ['No' 'Yes' 'No internet service']\n",
      "StreamingTV: ['No' 'Yes' 'No internet service']\n",
      "StreamingMovies: ['No' 'Yes' 'No internet service']\n",
      "Contract: ['Month-to-month' 'One year' 'Two year']\n",
      "PaperlessBilling: ['Yes' 'No']\n",
      "PaymentMethod: ['Electronic check' 'Mailed check' 'Bank transfer (automatic)'\n",
      " 'Credit card (automatic)']\n",
      "Churn: ['No' 'Yes']\n"
     ]
    }
   ],
   "source": [
    "for i in df_churn2.select_dtypes('object').columns:\n",
    "  print(f'{i}: {df_churn2[i].unique()}')"
   ]
  },
  {
   "cell_type": "code",
   "execution_count": 290,
   "metadata": {
    "id": "ns6yBCFcVwiR"
   },
   "outputs": [],
   "source": [
    "df_churn2.replace('No internet service','No',inplace=True)\n",
    "df_churn2.replace('No phone service','No',inplace=True)"
   ]
  },
  {
   "cell_type": "code",
   "execution_count": 291,
   "metadata": {
    "colab": {
     "base_uri": "https://localhost:8080/"
    },
    "id": "803PS_eTV88y",
    "outputId": "f3e214c2-8651-433b-f1a3-58a069a8206e"
   },
   "outputs": [
    {
     "name": "stdout",
     "output_type": "stream",
     "text": [
      "gender: ['Female' 'Male']\n",
      "Partner: ['Yes' 'No']\n",
      "Dependents: ['No' 'Yes']\n",
      "PhoneService: ['No' 'Yes']\n",
      "MultipleLines: ['No' 'Yes']\n",
      "InternetService: ['DSL' 'Fiber optic' 'No']\n",
      "OnlineSecurity: ['No' 'Yes']\n",
      "OnlineBackup: ['Yes' 'No']\n",
      "DeviceProtection: ['No' 'Yes']\n",
      "TechSupport: ['No' 'Yes']\n",
      "StreamingTV: ['No' 'Yes']\n",
      "StreamingMovies: ['No' 'Yes']\n",
      "Contract: ['Month-to-month' 'One year' 'Two year']\n",
      "PaperlessBilling: ['Yes' 'No']\n",
      "PaymentMethod: ['Electronic check' 'Mailed check' 'Bank transfer (automatic)'\n",
      " 'Credit card (automatic)']\n",
      "Churn: ['No' 'Yes']\n"
     ]
    }
   ],
   "source": [
    "for i in df_churn2.select_dtypes('object').columns:\n",
    "  print(f'{i}: {df_churn2[i].unique()}')"
   ]
  },
  {
   "cell_type": "code",
   "execution_count": 292,
   "metadata": {
    "id": "iZUmNFUrUu8t"
   },
   "outputs": [],
   "source": [
    "categorical_le2 = ['gender', 'Partner', 'Dependents', 'PhoneService','MultipleLines',\n",
    "                  'OnlineSecurity', 'OnlineBackup', 'DeviceProtection', 'TechSupport', \n",
    "                  'StreamingTV', 'StreamingMovies',\n",
    "                   'PaperlessBilling','Churn']\n",
    "categorical_ohe2 = ['InternetService',  'Contract','PaymentMethod']\n",
    "numerical_features2 = ['tenure','MonthlyCharges', 'TotalCharges']"
   ]
  },
  {
   "cell_type": "code",
   "execution_count": 294,
   "metadata": {
    "id": "TvPHsWTbWeEz"
   },
   "outputs": [],
   "source": [
    "from sklearn.preprocessing import LabelEncoder\n",
    "from sklearn.preprocessing import MinMaxScaler\n",
    "le2 = LabelEncoder()\n",
    "for col in categorical_le2:\n",
    "  df_churn2[col] = le2.fit_transform(df_churn2[col])\n",
    "\n",
    "scaler2 = MinMaxScaler()\n",
    "df_churn2[numerical_features2] = scaler2.fit_transform(df_churn2[numerical_features2])"
   ]
  },
  {
   "cell_type": "code",
   "execution_count": 295,
   "metadata": {
    "id": "AErEWNEyWyuQ"
   },
   "outputs": [],
   "source": [
    "df_churn22 = pd.get_dummies(data=df_churn2, columns=categorical_ohe2)"
   ]
  },
  {
   "cell_type": "code",
   "execution_count": 296,
   "metadata": {
    "colab": {
     "base_uri": "https://localhost:8080/",
     "height": 255
    },
    "id": "4i8dZsOgW361",
    "outputId": "433fb14e-94fd-4c72-99b2-f15dd865d2a3"
   },
   "outputs": [
    {
     "data": {
      "text/html": [
       "<div>\n",
       "<style scoped>\n",
       "    .dataframe tbody tr th:only-of-type {\n",
       "        vertical-align: middle;\n",
       "    }\n",
       "\n",
       "    .dataframe tbody tr th {\n",
       "        vertical-align: top;\n",
       "    }\n",
       "\n",
       "    .dataframe thead th {\n",
       "        text-align: right;\n",
       "    }\n",
       "</style>\n",
       "<table border=\"1\" class=\"dataframe\">\n",
       "  <thead>\n",
       "    <tr style=\"text-align: right;\">\n",
       "      <th></th>\n",
       "      <th>gender</th>\n",
       "      <th>SeniorCitizen</th>\n",
       "      <th>Partner</th>\n",
       "      <th>Dependents</th>\n",
       "      <th>tenure</th>\n",
       "      <th>PhoneService</th>\n",
       "      <th>MultipleLines</th>\n",
       "      <th>OnlineSecurity</th>\n",
       "      <th>OnlineBackup</th>\n",
       "      <th>DeviceProtection</th>\n",
       "      <th>TechSupport</th>\n",
       "      <th>StreamingTV</th>\n",
       "      <th>StreamingMovies</th>\n",
       "      <th>PaperlessBilling</th>\n",
       "      <th>MonthlyCharges</th>\n",
       "      <th>TotalCharges</th>\n",
       "      <th>Churn</th>\n",
       "      <th>InternetService_DSL</th>\n",
       "      <th>InternetService_Fiber optic</th>\n",
       "      <th>InternetService_No</th>\n",
       "      <th>Contract_Month-to-month</th>\n",
       "      <th>Contract_One year</th>\n",
       "      <th>Contract_Two year</th>\n",
       "      <th>PaymentMethod_Bank transfer (automatic)</th>\n",
       "      <th>PaymentMethod_Credit card (automatic)</th>\n",
       "      <th>PaymentMethod_Electronic check</th>\n",
       "      <th>PaymentMethod_Mailed check</th>\n",
       "    </tr>\n",
       "  </thead>\n",
       "  <tbody>\n",
       "    <tr>\n",
       "      <th>0</th>\n",
       "      <td>0</td>\n",
       "      <td>0</td>\n",
       "      <td>1</td>\n",
       "      <td>0</td>\n",
       "      <td>0.000000</td>\n",
       "      <td>0</td>\n",
       "      <td>0</td>\n",
       "      <td>0</td>\n",
       "      <td>1</td>\n",
       "      <td>0</td>\n",
       "      <td>0</td>\n",
       "      <td>0</td>\n",
       "      <td>0</td>\n",
       "      <td>1</td>\n",
       "      <td>0.115423</td>\n",
       "      <td>0.001275</td>\n",
       "      <td>0</td>\n",
       "      <td>1</td>\n",
       "      <td>0</td>\n",
       "      <td>0</td>\n",
       "      <td>1</td>\n",
       "      <td>0</td>\n",
       "      <td>0</td>\n",
       "      <td>0</td>\n",
       "      <td>0</td>\n",
       "      <td>1</td>\n",
       "      <td>0</td>\n",
       "    </tr>\n",
       "    <tr>\n",
       "      <th>1</th>\n",
       "      <td>1</td>\n",
       "      <td>0</td>\n",
       "      <td>0</td>\n",
       "      <td>0</td>\n",
       "      <td>0.464789</td>\n",
       "      <td>1</td>\n",
       "      <td>0</td>\n",
       "      <td>1</td>\n",
       "      <td>0</td>\n",
       "      <td>1</td>\n",
       "      <td>0</td>\n",
       "      <td>0</td>\n",
       "      <td>0</td>\n",
       "      <td>0</td>\n",
       "      <td>0.385075</td>\n",
       "      <td>0.215867</td>\n",
       "      <td>0</td>\n",
       "      <td>1</td>\n",
       "      <td>0</td>\n",
       "      <td>0</td>\n",
       "      <td>0</td>\n",
       "      <td>1</td>\n",
       "      <td>0</td>\n",
       "      <td>0</td>\n",
       "      <td>0</td>\n",
       "      <td>0</td>\n",
       "      <td>1</td>\n",
       "    </tr>\n",
       "    <tr>\n",
       "      <th>2</th>\n",
       "      <td>1</td>\n",
       "      <td>0</td>\n",
       "      <td>0</td>\n",
       "      <td>0</td>\n",
       "      <td>0.014085</td>\n",
       "      <td>1</td>\n",
       "      <td>0</td>\n",
       "      <td>1</td>\n",
       "      <td>1</td>\n",
       "      <td>0</td>\n",
       "      <td>0</td>\n",
       "      <td>0</td>\n",
       "      <td>0</td>\n",
       "      <td>1</td>\n",
       "      <td>0.354229</td>\n",
       "      <td>0.010310</td>\n",
       "      <td>1</td>\n",
       "      <td>1</td>\n",
       "      <td>0</td>\n",
       "      <td>0</td>\n",
       "      <td>1</td>\n",
       "      <td>0</td>\n",
       "      <td>0</td>\n",
       "      <td>0</td>\n",
       "      <td>0</td>\n",
       "      <td>0</td>\n",
       "      <td>1</td>\n",
       "    </tr>\n",
       "    <tr>\n",
       "      <th>3</th>\n",
       "      <td>1</td>\n",
       "      <td>0</td>\n",
       "      <td>0</td>\n",
       "      <td>0</td>\n",
       "      <td>0.619718</td>\n",
       "      <td>0</td>\n",
       "      <td>0</td>\n",
       "      <td>1</td>\n",
       "      <td>0</td>\n",
       "      <td>1</td>\n",
       "      <td>1</td>\n",
       "      <td>0</td>\n",
       "      <td>0</td>\n",
       "      <td>0</td>\n",
       "      <td>0.239303</td>\n",
       "      <td>0.210241</td>\n",
       "      <td>0</td>\n",
       "      <td>1</td>\n",
       "      <td>0</td>\n",
       "      <td>0</td>\n",
       "      <td>0</td>\n",
       "      <td>1</td>\n",
       "      <td>0</td>\n",
       "      <td>1</td>\n",
       "      <td>0</td>\n",
       "      <td>0</td>\n",
       "      <td>0</td>\n",
       "    </tr>\n",
       "    <tr>\n",
       "      <th>4</th>\n",
       "      <td>0</td>\n",
       "      <td>0</td>\n",
       "      <td>0</td>\n",
       "      <td>0</td>\n",
       "      <td>0.014085</td>\n",
       "      <td>1</td>\n",
       "      <td>0</td>\n",
       "      <td>0</td>\n",
       "      <td>0</td>\n",
       "      <td>0</td>\n",
       "      <td>0</td>\n",
       "      <td>0</td>\n",
       "      <td>0</td>\n",
       "      <td>1</td>\n",
       "      <td>0.521891</td>\n",
       "      <td>0.015330</td>\n",
       "      <td>1</td>\n",
       "      <td>0</td>\n",
       "      <td>1</td>\n",
       "      <td>0</td>\n",
       "      <td>1</td>\n",
       "      <td>0</td>\n",
       "      <td>0</td>\n",
       "      <td>0</td>\n",
       "      <td>0</td>\n",
       "      <td>1</td>\n",
       "      <td>0</td>\n",
       "    </tr>\n",
       "  </tbody>\n",
       "</table>\n",
       "</div>"
      ],
      "text/plain": [
       "   gender  ...  PaymentMethod_Mailed check\n",
       "0       0  ...                           0\n",
       "1       1  ...                           1\n",
       "2       1  ...                           1\n",
       "3       1  ...                           0\n",
       "4       0  ...                           0\n",
       "\n",
       "[5 rows x 27 columns]"
      ]
     },
     "execution_count": 296,
     "metadata": {
      "tags": []
     },
     "output_type": "execute_result"
    }
   ],
   "source": [
    "df_churn22.head()"
   ]
  },
  {
   "cell_type": "code",
   "execution_count": 297,
   "metadata": {
    "id": "F6HBEXhnW7cm"
   },
   "outputs": [],
   "source": [
    "X2 = df_churn22.drop('Churn',axis=1)\n",
    "y2 = df_churn22['Churn']"
   ]
  },
  {
   "cell_type": "code",
   "execution_count": 298,
   "metadata": {
    "id": "XXnY5H3aXQxL"
   },
   "outputs": [],
   "source": [
    "from sklearn.model_selection import train_test_split\n",
    "X_train2, X_test2, y_train2, y_test2 = train_test_split(X2, y2, test_size=0.2,random_state = 42)"
   ]
  },
  {
   "cell_type": "code",
   "execution_count": 299,
   "metadata": {
    "colab": {
     "base_uri": "https://localhost:8080/"
    },
    "id": "XdzjbQCLXmha",
    "outputId": "195d8a17-3424-4e8c-ab7c-bff0027feee6"
   },
   "outputs": [
    {
     "data": {
      "text/plain": [
       "26"
      ]
     },
     "execution_count": 299,
     "metadata": {
      "tags": []
     },
     "output_type": "execute_result"
    }
   ],
   "source": [
    "input_shape2 = X_train2.shape[1]\n",
    "input_shape2"
   ]
  },
  {
   "cell_type": "code",
   "execution_count": 300,
   "metadata": {
    "id": "dhikkpTGXc-F"
   },
   "outputs": [],
   "source": [
    "model2 = Sequential()\n",
    "model2.add(Dense(32, input_dim=input_shape2, kernel_initializer='uniform', activation='relu'))\n",
    "model2.add(Dropout(0.5))\n",
    "model2.add(Dense(64, activation='relu'))\n",
    "model2.add(Dropout(0.25))\n",
    "model2.add(Dense(128, activation='relu'))\n",
    "model2.add(Dropout(0.25))\n",
    "model2.add(Dense(1, activation='sigmoid'))"
   ]
  },
  {
   "cell_type": "code",
   "execution_count": 301,
   "metadata": {
    "id": "3gkTCNaAXty0"
   },
   "outputs": [],
   "source": [
    "model2.compile(loss='binary_crossentropy',\n",
    "              optimizer='adam',\n",
    "              metrics=['accuracy'])"
   ]
  },
  {
   "cell_type": "code",
   "execution_count": 302,
   "metadata": {
    "colab": {
     "base_uri": "https://localhost:8080/"
    },
    "id": "R5nMgK4QXv0R",
    "outputId": "0c3f95ab-8929-490b-a348-808645f41d09"
   },
   "outputs": [
    {
     "name": "stdout",
     "output_type": "stream",
     "text": [
      "Epoch 1/25\n",
      "231/231 [==============================] - 1s 3ms/step - loss: 0.4900 - accuracy: 0.7419 - val_loss: 0.4387 - val_accuracy: 0.7974\n",
      "Epoch 2/25\n",
      "231/231 [==============================] - 0s 2ms/step - loss: 0.4410 - accuracy: 0.7890 - val_loss: 0.4300 - val_accuracy: 0.7952\n",
      "Epoch 3/25\n",
      "231/231 [==============================] - 0s 2ms/step - loss: 0.4325 - accuracy: 0.7854 - val_loss: 0.4243 - val_accuracy: 0.7945\n",
      "Epoch 4/25\n",
      "231/231 [==============================] - 0s 2ms/step - loss: 0.4349 - accuracy: 0.7942 - val_loss: 0.4257 - val_accuracy: 0.8025\n",
      "Epoch 5/25\n",
      "231/231 [==============================] - 0s 2ms/step - loss: 0.4308 - accuracy: 0.7983 - val_loss: 0.4273 - val_accuracy: 0.8061\n",
      "Epoch 6/25\n",
      "231/231 [==============================] - 0s 2ms/step - loss: 0.4252 - accuracy: 0.8007 - val_loss: 0.4395 - val_accuracy: 0.8003\n",
      "Epoch 7/25\n",
      "231/231 [==============================] - 0s 2ms/step - loss: 0.4285 - accuracy: 0.7992 - val_loss: 0.4203 - val_accuracy: 0.8046\n",
      "Epoch 8/25\n",
      "231/231 [==============================] - 0s 2ms/step - loss: 0.4247 - accuracy: 0.7991 - val_loss: 0.4234 - val_accuracy: 0.8046\n",
      "Epoch 9/25\n",
      "231/231 [==============================] - 0s 2ms/step - loss: 0.4240 - accuracy: 0.7991 - val_loss: 0.4277 - val_accuracy: 0.8075\n",
      "Epoch 10/25\n",
      "231/231 [==============================] - 0s 2ms/step - loss: 0.4214 - accuracy: 0.8000 - val_loss: 0.4395 - val_accuracy: 0.7988\n",
      "Epoch 11/25\n",
      "231/231 [==============================] - 0s 2ms/step - loss: 0.4251 - accuracy: 0.8021 - val_loss: 0.4321 - val_accuracy: 0.8068\n",
      "Epoch 12/25\n",
      "231/231 [==============================] - 0s 2ms/step - loss: 0.4183 - accuracy: 0.8039 - val_loss: 0.4274 - val_accuracy: 0.8025\n",
      "Epoch 13/25\n",
      "231/231 [==============================] - 0s 2ms/step - loss: 0.4239 - accuracy: 0.7991 - val_loss: 0.4274 - val_accuracy: 0.8025\n",
      "Epoch 14/25\n",
      "231/231 [==============================] - 0s 2ms/step - loss: 0.4210 - accuracy: 0.8021 - val_loss: 0.4298 - val_accuracy: 0.8061\n",
      "Epoch 15/25\n",
      "231/231 [==============================] - 0s 2ms/step - loss: 0.4226 - accuracy: 0.8003 - val_loss: 0.4250 - val_accuracy: 0.8053\n",
      "Epoch 16/25\n",
      "231/231 [==============================] - 0s 2ms/step - loss: 0.4187 - accuracy: 0.8057 - val_loss: 0.4350 - val_accuracy: 0.8046\n",
      "Epoch 17/25\n",
      "231/231 [==============================] - 0s 2ms/step - loss: 0.4204 - accuracy: 0.8032 - val_loss: 0.4296 - val_accuracy: 0.8075\n",
      "Epoch 18/25\n",
      "231/231 [==============================] - 0s 2ms/step - loss: 0.4154 - accuracy: 0.8019 - val_loss: 0.4322 - val_accuracy: 0.8075\n",
      "Epoch 19/25\n",
      "231/231 [==============================] - 0s 2ms/step - loss: 0.4192 - accuracy: 0.8052 - val_loss: 0.4338 - val_accuracy: 0.8003\n",
      "Epoch 20/25\n",
      "231/231 [==============================] - 0s 2ms/step - loss: 0.4142 - accuracy: 0.7985 - val_loss: 0.4298 - val_accuracy: 0.8010\n",
      "Epoch 21/25\n",
      "231/231 [==============================] - 1s 2ms/step - loss: 0.4181 - accuracy: 0.8032 - val_loss: 0.4311 - val_accuracy: 0.8053\n",
      "Epoch 22/25\n",
      "231/231 [==============================] - 0s 2ms/step - loss: 0.4141 - accuracy: 0.8041 - val_loss: 0.4252 - val_accuracy: 0.8075\n",
      "Epoch 23/25\n",
      "231/231 [==============================] - 0s 2ms/step - loss: 0.4139 - accuracy: 0.8039 - val_loss: 0.4335 - val_accuracy: 0.7981\n",
      "Epoch 24/25\n",
      "231/231 [==============================] - 0s 2ms/step - loss: 0.4166 - accuracy: 0.8074 - val_loss: 0.4361 - val_accuracy: 0.8003\n",
      "Epoch 25/25\n",
      "231/231 [==============================] - 0s 2ms/step - loss: 0.4139 - accuracy: 0.8090 - val_loss: 0.4258 - val_accuracy: 0.8046\n"
     ]
    },
    {
     "data": {
      "text/plain": [
       "<tensorflow.python.keras.callbacks.History at 0x7fc20d9c4550>"
      ]
     },
     "execution_count": 302,
     "metadata": {
      "tags": []
     },
     "output_type": "execute_result"
    }
   ],
   "source": [
    "model2.fit(x = X_train2, y= y_train2, validation_data=(X_test2,y_test2),\n",
    "              epochs=25,\n",
    "          batch_size=24)"
   ]
  },
  {
   "cell_type": "code",
   "execution_count": 303,
   "metadata": {
    "id": "lJC4cpTPYvhC"
   },
   "outputs": [],
   "source": [
    "test_ori2 = test_ori.copy()"
   ]
  },
  {
   "cell_type": "code",
   "execution_count": 304,
   "metadata": {
    "id": "Ea4EIhTdYuLQ"
   },
   "outputs": [],
   "source": [
    "test_ori2.replace('No internet service','No',inplace=True)\n",
    "test_ori2.replace('No phone service','No',inplace=True)"
   ]
  },
  {
   "cell_type": "code",
   "execution_count": 305,
   "metadata": {
    "colab": {
     "base_uri": "https://localhost:8080/",
     "height": 305
    },
    "id": "WDbLhos1ZoVu",
    "outputId": "5b48a94f-dc39-4e43-c497-8138382ba1ef"
   },
   "outputs": [
    {
     "data": {
      "text/html": [
       "<div>\n",
       "<style scoped>\n",
       "    .dataframe tbody tr th:only-of-type {\n",
       "        vertical-align: middle;\n",
       "    }\n",
       "\n",
       "    .dataframe tbody tr th {\n",
       "        vertical-align: top;\n",
       "    }\n",
       "\n",
       "    .dataframe thead th {\n",
       "        text-align: right;\n",
       "    }\n",
       "</style>\n",
       "<table border=\"1\" class=\"dataframe\">\n",
       "  <thead>\n",
       "    <tr style=\"text-align: right;\">\n",
       "      <th></th>\n",
       "      <th>customerID</th>\n",
       "      <th>gender</th>\n",
       "      <th>SeniorCitizen</th>\n",
       "      <th>Partner</th>\n",
       "      <th>Dependents</th>\n",
       "      <th>tenure</th>\n",
       "      <th>PhoneService</th>\n",
       "      <th>MultipleLines</th>\n",
       "      <th>InternetService</th>\n",
       "      <th>OnlineSecurity</th>\n",
       "      <th>OnlineBackup</th>\n",
       "      <th>DeviceProtection</th>\n",
       "      <th>TechSupport</th>\n",
       "      <th>StreamingTV</th>\n",
       "      <th>StreamingMovies</th>\n",
       "      <th>Contract</th>\n",
       "      <th>PaperlessBilling</th>\n",
       "      <th>PaymentMethod</th>\n",
       "      <th>MonthlyCharges</th>\n",
       "      <th>TotalCharges</th>\n",
       "      <th>Churn</th>\n",
       "    </tr>\n",
       "  </thead>\n",
       "  <tbody>\n",
       "    <tr>\n",
       "      <th>0</th>\n",
       "      <td>0032-PGELS</td>\n",
       "      <td>Female</td>\n",
       "      <td>0</td>\n",
       "      <td>Yes</td>\n",
       "      <td>Yes</td>\n",
       "      <td>1</td>\n",
       "      <td>No</td>\n",
       "      <td>No</td>\n",
       "      <td>DSL</td>\n",
       "      <td>Yes</td>\n",
       "      <td>No</td>\n",
       "      <td>No</td>\n",
       "      <td>No</td>\n",
       "      <td>No</td>\n",
       "      <td>No</td>\n",
       "      <td>Month-to-month</td>\n",
       "      <td>No</td>\n",
       "      <td>Bank transfer (automatic)</td>\n",
       "      <td>30.50</td>\n",
       "      <td>30.50</td>\n",
       "      <td>Yes</td>\n",
       "    </tr>\n",
       "    <tr>\n",
       "      <th>1</th>\n",
       "      <td>9039-ZVJDC</td>\n",
       "      <td>Male</td>\n",
       "      <td>0</td>\n",
       "      <td>No</td>\n",
       "      <td>No</td>\n",
       "      <td>3</td>\n",
       "      <td>Yes</td>\n",
       "      <td>No</td>\n",
       "      <td>No</td>\n",
       "      <td>No</td>\n",
       "      <td>No</td>\n",
       "      <td>No</td>\n",
       "      <td>No</td>\n",
       "      <td>No</td>\n",
       "      <td>No</td>\n",
       "      <td>Month-to-month</td>\n",
       "      <td>Yes</td>\n",
       "      <td>Mailed check</td>\n",
       "      <td>19.10</td>\n",
       "      <td>53.05</td>\n",
       "      <td>No</td>\n",
       "    </tr>\n",
       "    <tr>\n",
       "      <th>2</th>\n",
       "      <td>6797-LNAQX</td>\n",
       "      <td>Male</td>\n",
       "      <td>0</td>\n",
       "      <td>Yes</td>\n",
       "      <td>Yes</td>\n",
       "      <td>70</td>\n",
       "      <td>Yes</td>\n",
       "      <td>Yes</td>\n",
       "      <td>Fiber optic</td>\n",
       "      <td>No</td>\n",
       "      <td>Yes</td>\n",
       "      <td>No</td>\n",
       "      <td>No</td>\n",
       "      <td>Yes</td>\n",
       "      <td>Yes</td>\n",
       "      <td>Two year</td>\n",
       "      <td>No</td>\n",
       "      <td>Bank transfer (automatic)</td>\n",
       "      <td>98.30</td>\n",
       "      <td>6859.50</td>\n",
       "      <td>Yes</td>\n",
       "    </tr>\n",
       "    <tr>\n",
       "      <th>3</th>\n",
       "      <td>9013-AQORL</td>\n",
       "      <td>Female</td>\n",
       "      <td>0</td>\n",
       "      <td>No</td>\n",
       "      <td>Yes</td>\n",
       "      <td>48</td>\n",
       "      <td>No</td>\n",
       "      <td>No</td>\n",
       "      <td>DSL</td>\n",
       "      <td>No</td>\n",
       "      <td>Yes</td>\n",
       "      <td>Yes</td>\n",
       "      <td>No</td>\n",
       "      <td>No</td>\n",
       "      <td>Yes</td>\n",
       "      <td>Month-to-month</td>\n",
       "      <td>No</td>\n",
       "      <td>Credit card (automatic)</td>\n",
       "      <td>45.55</td>\n",
       "      <td>2108.35</td>\n",
       "      <td>No</td>\n",
       "    </tr>\n",
       "    <tr>\n",
       "      <th>4</th>\n",
       "      <td>2898-MRKPI</td>\n",
       "      <td>Male</td>\n",
       "      <td>0</td>\n",
       "      <td>Yes</td>\n",
       "      <td>Yes</td>\n",
       "      <td>68</td>\n",
       "      <td>Yes</td>\n",
       "      <td>Yes</td>\n",
       "      <td>Fiber optic</td>\n",
       "      <td>No</td>\n",
       "      <td>Yes</td>\n",
       "      <td>No</td>\n",
       "      <td>No</td>\n",
       "      <td>Yes</td>\n",
       "      <td>Yes</td>\n",
       "      <td>One year</td>\n",
       "      <td>Yes</td>\n",
       "      <td>Credit card (automatic)</td>\n",
       "      <td>101.05</td>\n",
       "      <td>6770.50</td>\n",
       "      <td>No</td>\n",
       "    </tr>\n",
       "  </tbody>\n",
       "</table>\n",
       "</div>"
      ],
      "text/plain": [
       "   customerID  gender  SeniorCitizen  ... MonthlyCharges TotalCharges  Churn\n",
       "0  0032-PGELS  Female              0  ...          30.50        30.50    Yes\n",
       "1  9039-ZVJDC    Male              0  ...          19.10        53.05     No\n",
       "2  6797-LNAQX    Male              0  ...          98.30      6859.50    Yes\n",
       "3  9013-AQORL  Female              0  ...          45.55      2108.35     No\n",
       "4  2898-MRKPI    Male              0  ...         101.05      6770.50     No\n",
       "\n",
       "[5 rows x 21 columns]"
      ]
     },
     "execution_count": 305,
     "metadata": {
      "tags": []
     },
     "output_type": "execute_result"
    }
   ],
   "source": [
    "test_ori2.head()"
   ]
  },
  {
   "cell_type": "code",
   "execution_count": 306,
   "metadata": {
    "id": "JoknwITZYm6b"
   },
   "outputs": [],
   "source": [
    "from sklearn.preprocessing import LabelEncoder\n",
    "from sklearn.preprocessing import MinMaxScaler\n",
    "le2 = LabelEncoder()\n",
    "for col in categorical_le2:\n",
    "  test_ori2[col] = le2.fit_transform(test_ori2[col])\n",
    "  \n",
    "scaler2 = MinMaxScaler()\n",
    "test_ori2[numerical_features2] = scaler2.fit_transform(test_ori2[numerical_features2])\n",
    "test_ori2 = pd.get_dummies(data=test_ori2, columns=categorical_ohe2)"
   ]
  },
  {
   "cell_type": "code",
   "execution_count": 309,
   "metadata": {
    "id": "7g51gCJ6X6e_"
   },
   "outputs": [],
   "source": [
    "predict_churn2 = model2.predict_classes(test_ori2.drop(['customerID','Churn'],axis=1))"
   ]
  },
  {
   "cell_type": "code",
   "execution_count": 308,
   "metadata": {
    "colab": {
     "base_uri": "https://localhost:8080/"
    },
    "id": "JdSOubv6YVEc",
    "outputId": "c108bab8-f6e1-4080-d1c8-d65261f048c8"
   },
   "outputs": [
    {
     "name": "stdout",
     "output_type": "stream",
     "text": [
      "[[65  5]\n",
      " [18 12]]\n",
      "              precision    recall  f1-score   support\n",
      "\n",
      "           0       0.78      0.93      0.85        70\n",
      "           1       0.71      0.40      0.51        30\n",
      "\n",
      "    accuracy                           0.77       100\n",
      "   macro avg       0.74      0.66      0.68       100\n",
      "weighted avg       0.76      0.77      0.75       100\n",
      "\n",
      "0.77\n"
     ]
    }
   ],
   "source": [
    "from sklearn.metrics import classification_report, confusion_matrix,accuracy_score\n",
    "print(confusion_matrix(churn,predict_churn2))\n",
    "print(classification_report(churn,predict_churn2))\n",
    "print(accuracy_score(churn,predict_churn2))"
   ]
  },
  {
   "cell_type": "code",
   "execution_count": 236,
   "metadata": {
    "colab": {
     "base_uri": "https://localhost:8080/"
    },
    "id": "xj056Xt_ahG7",
    "outputId": "8587ec5e-570e-4aa9-8967-8f325aa06165"
   },
   "outputs": [
    {
     "name": "stderr",
     "output_type": "stream",
     "text": [
      "/usr/local/lib/python3.7/dist-packages/sklearn/utils/deprecation.py:87: FutureWarning: Function safe_indexing is deprecated; safe_indexing is deprecated in version 0.22 and will be removed in version 0.24.\n",
      "  warnings.warn(msg, category=FutureWarning)\n"
     ]
    }
   ],
   "source": [
    "from imblearn.over_sampling import SMOTE\n",
    "sm = SMOTE(random_state=42)\n",
    "smote_x_train2, smote_y_train2 = sm.fit_resample(X_train2, y_train2)"
   ]
  },
  {
   "cell_type": "code",
   "execution_count": 238,
   "metadata": {
    "id": "M8aexWfVaiYJ"
   },
   "outputs": [],
   "source": [
    "smote_x_train2 = pd.DataFrame(smote_x_train2, columns = X_train2.columns)\n",
    "smote_y_train2 = pd.DataFrame(smote_y_train2, columns = ['Churn'])"
   ]
  },
  {
   "cell_type": "code",
   "execution_count": 243,
   "metadata": {
    "colab": {
     "base_uri": "https://localhost:8080/"
    },
    "id": "Hrije99Sa7DO",
    "outputId": "6b042ec8-0367-4efd-eb1d-6dc4b76c813b"
   },
   "outputs": [
    {
     "name": "stdout",
     "output_type": "stream",
     "text": [
      "Epoch 1/25\n",
      "339/339 [==============================] - 1s 2ms/step - loss: 0.5370 - accuracy: 0.7335 - val_loss: 0.5425 - val_accuracy: 0.7210\n",
      "Epoch 2/25\n",
      "339/339 [==============================] - 1s 2ms/step - loss: 0.4879 - accuracy: 0.7677 - val_loss: 0.5019 - val_accuracy: 0.7541\n",
      "Epoch 3/25\n",
      "339/339 [==============================] - 1s 2ms/step - loss: 0.4832 - accuracy: 0.7710 - val_loss: 0.5035 - val_accuracy: 0.7347\n",
      "Epoch 4/25\n",
      "339/339 [==============================] - 1s 2ms/step - loss: 0.4784 - accuracy: 0.7755 - val_loss: 0.5005 - val_accuracy: 0.7642\n",
      "Epoch 5/25\n",
      "339/339 [==============================] - 1s 2ms/step - loss: 0.4717 - accuracy: 0.7760 - val_loss: 0.5441 - val_accuracy: 0.7397\n",
      "Epoch 6/25\n",
      "339/339 [==============================] - 1s 2ms/step - loss: 0.4760 - accuracy: 0.7773 - val_loss: 0.5375 - val_accuracy: 0.7441\n",
      "Epoch 7/25\n",
      "339/339 [==============================] - 1s 2ms/step - loss: 0.4696 - accuracy: 0.7738 - val_loss: 0.5454 - val_accuracy: 0.7311\n",
      "Epoch 8/25\n",
      "339/339 [==============================] - 1s 2ms/step - loss: 0.4681 - accuracy: 0.7738 - val_loss: 0.4945 - val_accuracy: 0.7751\n",
      "Epoch 9/25\n",
      "339/339 [==============================] - 1s 2ms/step - loss: 0.4679 - accuracy: 0.7772 - val_loss: 0.5052 - val_accuracy: 0.7614\n",
      "Epoch 10/25\n",
      "339/339 [==============================] - 1s 2ms/step - loss: 0.4679 - accuracy: 0.7776 - val_loss: 0.5023 - val_accuracy: 0.7592\n",
      "Epoch 11/25\n",
      "339/339 [==============================] - 1s 2ms/step - loss: 0.4661 - accuracy: 0.7810 - val_loss: 0.5223 - val_accuracy: 0.7340\n",
      "Epoch 12/25\n",
      "339/339 [==============================] - 1s 2ms/step - loss: 0.4625 - accuracy: 0.7814 - val_loss: 0.5018 - val_accuracy: 0.7404\n",
      "Epoch 13/25\n",
      "339/339 [==============================] - 1s 2ms/step - loss: 0.4608 - accuracy: 0.7866 - val_loss: 0.5300 - val_accuracy: 0.7123\n",
      "Epoch 14/25\n",
      "339/339 [==============================] - 1s 2ms/step - loss: 0.4607 - accuracy: 0.7820 - val_loss: 0.5731 - val_accuracy: 0.7044\n",
      "Epoch 15/25\n",
      "339/339 [==============================] - 1s 2ms/step - loss: 0.4587 - accuracy: 0.7910 - val_loss: 0.5636 - val_accuracy: 0.7001\n",
      "Epoch 16/25\n",
      "339/339 [==============================] - 1s 2ms/step - loss: 0.4613 - accuracy: 0.7831 - val_loss: 0.5349 - val_accuracy: 0.7181\n",
      "Epoch 17/25\n",
      "339/339 [==============================] - 1s 2ms/step - loss: 0.4551 - accuracy: 0.7898 - val_loss: 0.5285 - val_accuracy: 0.7195\n",
      "Epoch 18/25\n",
      "339/339 [==============================] - 1s 2ms/step - loss: 0.4556 - accuracy: 0.7874 - val_loss: 0.5478 - val_accuracy: 0.7145\n",
      "Epoch 19/25\n",
      "339/339 [==============================] - 1s 2ms/step - loss: 0.4538 - accuracy: 0.7873 - val_loss: 0.5200 - val_accuracy: 0.7304\n",
      "Epoch 20/25\n",
      "339/339 [==============================] - 1s 2ms/step - loss: 0.4546 - accuracy: 0.7864 - val_loss: 0.5283 - val_accuracy: 0.7296\n",
      "Epoch 21/25\n",
      "339/339 [==============================] - 1s 2ms/step - loss: 0.4498 - accuracy: 0.7903 - val_loss: 0.5362 - val_accuracy: 0.7354\n",
      "Epoch 22/25\n",
      "339/339 [==============================] - 1s 2ms/step - loss: 0.4551 - accuracy: 0.7869 - val_loss: 0.5460 - val_accuracy: 0.7174\n",
      "Epoch 23/25\n",
      "339/339 [==============================] - 1s 2ms/step - loss: 0.4497 - accuracy: 0.7907 - val_loss: 0.5532 - val_accuracy: 0.7130\n",
      "Epoch 24/25\n",
      "339/339 [==============================] - 1s 2ms/step - loss: 0.4499 - accuracy: 0.7926 - val_loss: 0.5446 - val_accuracy: 0.6994\n",
      "Epoch 25/25\n",
      "339/339 [==============================] - 1s 2ms/step - loss: 0.4482 - accuracy: 0.7893 - val_loss: 0.5437 - val_accuracy: 0.7152\n"
     ]
    },
    {
     "data": {
      "text/plain": [
       "<tensorflow.python.keras.callbacks.History at 0x7fc21354df50>"
      ]
     },
     "execution_count": 243,
     "metadata": {
      "tags": []
     },
     "output_type": "execute_result"
    }
   ],
   "source": [
    "model2.fit(x = smote_x_train2, y= smote_y_train2, validation_data=(X_test2,y_test2),\n",
    "              epochs=25,\n",
    "          batch_size=24)"
   ]
  },
  {
   "cell_type": "code",
   "execution_count": null,
   "metadata": {
    "id": "dy4lflI8sXmF"
   },
   "outputs": [],
   "source": []
  }
 ],
 "metadata": {
  "colab": {
   "collapsed_sections": [],
   "name": "Intro_DeepLearning_DS1.ipynb",
   "provenance": []
  },
  "kernelspec": {
   "display_name": "Python 3",
   "language": "python",
   "name": "python3"
  },
  "language_info": {
   "codemirror_mode": {
    "name": "ipython",
    "version": 3
   },
   "file_extension": ".py",
   "mimetype": "text/x-python",
   "name": "python",
   "nbconvert_exporter": "python",
   "pygments_lexer": "ipython3",
   "version": "3.7.0"
  }
 },
 "nbformat": 4,
 "nbformat_minor": 1
}
